{
 "cells": [
  {
   "cell_type": "markdown",
   "metadata": {},
   "source": [
    "# Import"
   ]
  },
  {
   "cell_type": "code",
   "execution_count": 64,
   "metadata": {},
   "outputs": [],
   "source": [
    "import os\n",
    "import cv2\n",
    "import glob\n",
    "import re\n",
    "import numpy as np\n",
    "import seaborn as sns\n",
    "import pandas as pd\n",
    "import time\n",
    "import mnist_reader\n",
    "import matplotlib.pyplot as plt\n",
    "import matplotlib.colors as mcolors\n",
    "\n",
    "from skimage.feature import hog\n",
    "from sklearn.decomposition import PCA\n",
    "\n",
    "from sklearn.preprocessing import StandardScaler\n",
    "from sklearn.feature_selection import SelectPercentile, f_classif, SelectKBest\n",
    "from sklearn.model_selection import train_test_split\n",
    "\n",
    "from sklearn.linear_model import LogisticRegression\n",
    "from sklearn.model_selection import GridSearchCV\n",
    "from sklearn.svm import SVC\n",
    "from sklearn.ensemble import RandomForestClassifier\n",
    "from xgboost import XGBClassifier\n",
    "\n",
    "from sklearn.metrics import confusion_matrix, ConfusionMatrixDisplay, accuracy_score, classification_report, precision_score, recall_score, f1_score\n",
    "\n",
    "\n",
    "from tensorflow.keras import Sequential\n",
    "from tensorflow.keras.layers import Dense, Dropout, Activation\n",
    "from keras.callbacks import ModelCheckpoint\n",
    "from tensorflow.keras.preprocessing.image import ImageDataGenerator\n",
    "from tensorflow.keras.models import Sequential\n",
    "from tensorflow.keras.layers import Conv2D, BatchNormalization, Activation, GlobalAveragePooling2D, Dense, Dropout\n",
    "from tensorflow.keras.utils import to_categorical\n",
    "\n"
   ]
  },
  {
   "cell_type": "markdown",
   "metadata": {},
   "source": [
    "# Get Images and Labels "
   ]
  },
  {
   "cell_type": "code",
   "execution_count": 65,
   "metadata": {},
   "outputs": [],
   "source": [
    "def unify_classes(classes):\n",
    "    unified_classes = set()\n",
    "    class_mapping = {}\n",
    "\n",
    "    for fruit in classes:\n",
    "        if re.search(r'\\s+\\d+$', fruit):\n",
    "            unified_name = re.sub(r'\\s+\\d+$', '', fruit)\n",
    "        else:\n",
    "            unified_name = fruit\n",
    "        unified_classes.add(unified_name)\n",
    "        class_mapping[fruit] = unified_name\n",
    "\n",
    "    return sorted(list(unified_classes)), class_mapping\n",
    "\n",
    "def getAllFruits(data_path):\n",
    "    original_classes = []\n",
    "    for fruit_path in glob.glob(os.path.join(data_path, \"*\")):\n",
    "        fruit = fruit_path.split(\"/\")[-1]\n",
    "        original_classes.append(fruit)\n",
    "    \n",
    "    unified_classes, class_mapping = unify_classes(original_classes)\n",
    "    return unified_classes, class_mapping\n",
    "\n",
    "def getYourFruits(fruits, class_mapping, data_path, print_n=False):\n",
    "    images = []\n",
    "    labels = []\n",
    "    for i, unified_name in enumerate(fruits):\n",
    "        original_names = [k for k, v in class_mapping.items() if v == unified_name]\n",
    "        j = 0\n",
    "        for fruit_name in original_names:\n",
    "            folder_pattern = os.path.join(data_path, fruit_name + \"*\")\n",
    "            for fruit_folder in glob.glob(folder_pattern):\n",
    "                for image_path in glob.glob(os.path.join(fruit_folder, \"*.jpg\")):\n",
    "                    image = cv2.imread(image_path, cv2.IMREAD_COLOR)\n",
    "                    image = cv2.resize(image, (dim, dim))\n",
    "                    image = cv2.cvtColor(image, cv2.COLOR_RGB2BGR)\n",
    "                    images.append(image)\n",
    "                    labels.append(i)\n",
    "                    j += 1\n",
    "        if print_n:\n",
    "            print(f\"There are {j} images for {unified_name.upper()} in {data_path.split('/')[-1].upper()}\")\n",
    "    images = np.array(images)\n",
    "    labels = np.array(labels)\n",
    "    return images, labels"
   ]
  },
  {
   "cell_type": "code",
   "execution_count": 66,
   "metadata": {},
   "outputs": [
    {
     "name": "stdout",
     "output_type": "stream",
     "text": [
      "Number of unified classes: 121\n",
      "Unified Fruits: ['Apple', 'Apple Braeburn', 'Apple Crimson Snow', 'Apple Golden', 'Apple Granny Smith', 'Apple Pink Lady', 'Apple Red', 'Apple Red Delicious', 'Apple Red Yellow', 'Apple hit', 'Apricot', 'Avocado', 'Avocado ripe', 'Banana', 'Banana Lady Finger', 'Banana Red', 'Beetroot', 'Blueberry', 'Cabbage white', 'Cactus fruit', 'Cantaloupe', 'Carambula', 'Carrot', 'Cauliflower', 'Cherry', 'Cherry Rainier', 'Cherry Wax Black', 'Cherry Wax Red', 'Cherry Wax Yellow', 'Chestnut', 'Clementine', 'Cocos', 'Corn', 'Corn Husk', 'Cucumber', 'Cucumber Ripe', 'Dates', 'Eggplant', 'Eggplant long', 'Fig', 'Ginger Root', 'Granadilla', 'Grape Blue', 'Grape Pink', 'Grape White', 'Grapefruit Pink', 'Grapefruit White', 'Guava', 'Hazelnut', 'Huckleberry', 'Kaki', 'Kiwi', 'Kohlrabi', 'Kumquats', 'Lemon', 'Lemon Meyer', 'Limes', 'Lychee', 'Mandarine', 'Mango', 'Mango Red', 'Mangostan', 'Maracuja', 'Melon Piel de Sapo', 'Mulberry', 'Nectarine', 'Nectarine Flat', 'Nut Forest', 'Nut Pecan', 'Onion Red', 'Onion Red Peeled', 'Onion White', 'Orange', 'Papaya', 'Passion Fruit', 'Peach', 'Peach Flat', 'Pear', 'Pear Abate', 'Pear Forelle', 'Pear Kaiser', 'Pear Monster', 'Pear Red', 'Pear Stone', 'Pear Williams', 'Pepino', 'Pepper Green', 'Pepper Orange', 'Pepper Red', 'Pepper Yellow', 'Physalis', 'Physalis with Husk', 'Pineapple', 'Pineapple Mini', 'Pitahaya Red', 'Plum', 'Pomegranate', 'Pomelo Sweetie', 'Potato Red', 'Potato Red Washed', 'Potato Sweet', 'Potato White', 'Quince', 'Rambutan', 'Raspberry', 'Redcurrant', 'Salak', 'Strawberry', 'Strawberry Wedge', 'Tamarillo', 'Tangelo', 'Tomato', 'Tomato Cherry Red', 'Tomato Heart', 'Tomato Maroon', 'Tomato Yellow', 'Tomato not Ripened', 'Walnut', 'Watermelon', 'Zucchini', 'Zucchini dark']\n",
      "Training data shape: (70491, 100, 100, 3), (70491,)\n",
      "Test data shape: (23619, 100, 100, 3), (23619,)\n"
     ]
    }
   ],
   "source": [
    "dataset_path = \"fruits-360_dataset_100x100/fruits-360\"\n",
    "train_path = os.path.join(dataset_path, \"Training\")\n",
    "test_path = os.path.join(dataset_path, \"Test\")\n",
    "dim = 100 \n",
    "\n",
    "\n",
    "fruits, class_mapping = getAllFruits(train_path)\n",
    "print(f\"Number of unified classes: {len(fruits)}\")\n",
    "print(f\"Unified Fruits: {fruits}\")\n",
    "\n",
    "\n",
    "X_train, y_train = getYourFruits(fruits, class_mapping, train_path, print_n=False)\n",
    "print(f\"Training data shape: {X_train.shape}, {y_train.shape}\")\n",
    "\n",
    "\n",
    "X_test, y_test = getYourFruits(fruits, class_mapping, test_path, print_n=False)\n",
    "print(f\"Test data shape: {X_test.shape}, {y_test.shape}\")\n",
    "\n",
    "\n"
   ]
  },
  {
   "cell_type": "code",
   "execution_count": 67,
   "metadata": {},
   "outputs": [],
   "source": [
    "#global variables\n",
    "class_names = fruits\n",
    "n_components = 400"
   ]
  },
  {
   "cell_type": "markdown",
   "metadata": {},
   "source": [
    "# 3.1. MLP applied on selected features"
   ]
  },
  {
   "cell_type": "markdown",
   "metadata": {},
   "source": [
    "### Feature Extraction: HOG and PCA"
   ]
  },
  {
   "cell_type": "code",
   "execution_count": 68,
   "metadata": {},
   "outputs": [],
   "source": [
    "def extract_hog_features(images, pixels_per_cell=(8, 8), cells_per_block=(2, 2), orientations=9):\n",
    "    hog_features = []\n",
    "    for image in images:\n",
    "        gray_image = cv2.cvtColor(image, cv2.COLOR_BGR2GRAY)\n",
    "        features = hog(gray_image, \n",
    "                       orientations=orientations, \n",
    "                       pixels_per_cell=pixels_per_cell, \n",
    "                       cells_per_block=cells_per_block, \n",
    "                       block_norm='L2-Hys')\n",
    "        hog_features.append(features)\n",
    "    return np.array(hog_features)"
   ]
  },
  {
   "cell_type": "code",
   "execution_count": null,
   "metadata": {},
   "outputs": [],
   "source": [
    "X_train_hog = extract_hog_features(X_train)\n",
    "X_test_hog = extract_hog_features(X_test)\n",
    "\n",
    "X_train_hog[0].reshape(1,-1).shape"
   ]
  },
  {
   "cell_type": "code",
   "execution_count": 7,
   "metadata": {},
   "outputs": [],
   "source": [
    "pca = PCA(n_components=n_components)\n",
    "\n",
    "X_train_hog_pca = pca.fit_transform(X_train_hog)\n",
    "X_test_hog_pca = pca.transform(X_test_hog)"
   ]
  },
  {
   "cell_type": "code",
   "execution_count": 8,
   "metadata": {},
   "outputs": [
    {
     "name": "stdout",
     "output_type": "stream",
     "text": [
      "X_train_hog: (70491, 4356)\n",
      "X_test_hog: (23619, 4356)\n",
      "X_train_hog_pca: (70491, 400)\n",
      "X_test_hog_pca: (23619, 400)\n"
     ]
    }
   ],
   "source": [
    "print(\"X_train_hog:\", X_train_hog.shape)\n",
    "print(\"X_test_hog:\", X_test_hog.shape)\n",
    "print(\"X_train_hog_pca:\", X_train_hog_pca.shape)\n",
    "print(\"X_test_hog_pca:\", X_test_hog_pca.shape)"
   ]
  },
  {
   "cell_type": "markdown",
   "metadata": {},
   "source": [
    "### Feature selection"
   ]
  },
  {
   "cell_type": "code",
   "execution_count": null,
   "metadata": {},
   "outputs": [
    {
     "name": "stdout",
     "output_type": "stream",
     "text": [
      "X_train_selected: (70491, 128)\n",
      "X_test_selected: (23619, 128)\n"
     ]
    }
   ],
   "source": [
    "percentile = 128 / X_train_hog_pca.shape[1] * 100\n",
    "selector = SelectPercentile(f_classif, percentile=percentile)\n",
    "\n",
    "\n",
    "X_train_selected = selector.fit_transform(X_train_hog_pca, y_train)\n",
    "X_test_selected = selector.transform(X_test_hog_pca)\n",
    "\n",
    "print(\"X_train_selected:\", X_train_selected.shape)\n",
    "print(\"X_test_selected:\", X_test_selected.shape)\n"
   ]
  },
  {
   "cell_type": "markdown",
   "metadata": {},
   "source": [
    "### Data Normalization using StandarScaler"
   ]
  },
  {
   "cell_type": "code",
   "execution_count": 11,
   "metadata": {},
   "outputs": [],
   "source": [
    "scaler = StandardScaler()\n",
    "X_train_normalized = scaler.fit_transform(X_train_selected)\n",
    "X_test_normalized = scaler.transform(X_test_selected)"
   ]
  },
  {
   "cell_type": "markdown",
   "metadata": {},
   "source": [
    "### Validation Set"
   ]
  },
  {
   "cell_type": "code",
   "execution_count": 12,
   "metadata": {},
   "outputs": [
    {
     "name": "stdout",
     "output_type": "stream",
     "text": [
      "Training Set Size (0.8): (56392, 128)\n",
      "Validation Set Size (0.2): (14099, 128)\n",
      "Original Train Set Shape: (70491, 128)\n",
      "Test Set Shape: (23619, 128)\n"
     ]
    }
   ],
   "source": [
    "X_train_small, X_val, y_train_small, y_val = train_test_split(\n",
    "    X_train_normalized, y_train, test_size=0.2, random_state=42\n",
    ")\n",
    "\n",
    "print(f\"Training Set Size (0.8): {X_train_small.shape}\")\n",
    "print(f\"Validation Set Size (0.2): {X_val.shape}\")\n",
    "\n",
    "print(f\"Original Train Set Shape: {X_train_normalized.shape}\")\n",
    "print(f\"Test Set Shape: {X_test_normalized.shape}\")"
   ]
  },
  {
   "cell_type": "markdown",
   "metadata": {},
   "source": [
    "### MLP on selected features"
   ]
  },
  {
   "cell_type": "code",
   "execution_count": 13,
   "metadata": {},
   "outputs": [
    {
     "name": "stderr",
     "output_type": "stream",
     "text": [
      "/opt/anaconda3/lib/python3.12/site-packages/keras/src/layers/core/dense.py:87: UserWarning: Do not pass an `input_shape`/`input_dim` argument to a layer. When using Sequential models, prefer using an `Input(shape)` object as the first layer in the model instead.\n",
      "  super().__init__(activity_regularizer=activity_regularizer, **kwargs)\n"
     ]
    }
   ],
   "source": [
    "num_classes = len(fruits)\n",
    "\n",
    "mlp = Sequential([\n",
    "    Dense(512, input_shape=(X_train_selected.shape[1],)),  # Input shape matches selected features\n",
    "    Activation('relu'),                                    # ReLU activation\n",
    "    Dropout(0.3),                                          # Dropout for regularization\n",
    "    Dense(512),                                            # Hidden layer with 512 units\n",
    "    Activation('relu'),                                    # ReLU activation\n",
    "    Dropout(0.3),                                          # Dropout for regularization\n",
    "    Dense(num_classes),                                    # Output layer with 10 units (num_classes)\n",
    "    Activation('softmax')                                  # Softmax activation for probabilities\n",
    "])\n"
   ]
  },
  {
   "cell_type": "code",
   "execution_count": 14,
   "metadata": {},
   "outputs": [],
   "source": [
    "mlp.compile(loss='categorical_crossentropy', optimizer='adam', metrics=['accuracy'])"
   ]
  },
  {
   "cell_type": "code",
   "execution_count": 15,
   "metadata": {},
   "outputs": [],
   "source": [
    "filepath = \"mlp-weights.{epoch:02d}-{val_loss:.2f}.keras\"\n",
    "checkpoint = ModelCheckpoint(filepath, monitor='val_accuracy', verbose=1, save_best_only=True, mode='max')\n"
   ]
  },
  {
   "cell_type": "markdown",
   "metadata": {},
   "source": [
    "### Transforming labels into one-hot encoding format"
   ]
  },
  {
   "cell_type": "code",
   "execution_count": 16,
   "metadata": {},
   "outputs": [
    {
     "name": "stdout",
     "output_type": "stream",
     "text": [
      "Shape of y_train_small_one_hot: (56392, 121)\n",
      "Shape of y_val_one_hot: (14099, 121)\n",
      "Shape of y_test_one_hot: (23619, 121)\n"
     ]
    }
   ],
   "source": [
    "y_train_small_one_hot = to_categorical(y_train_small, num_classes=num_classes)\n",
    "y_val_one_hot = to_categorical(y_val, num_classes=num_classes)\n",
    "y_test_one_hot = to_categorical(y_test, num_classes=num_classes)\n",
    "\n",
    "print(\"Shape of y_train_small_one_hot:\", y_train_small_one_hot.shape)\n",
    "print(\"Shape of y_val_one_hot:\", y_val_one_hot.shape)\n",
    "print(\"Shape of y_test_one_hot:\", y_test_one_hot.shape)"
   ]
  },
  {
   "cell_type": "markdown",
   "metadata": {},
   "source": [
    "### Training the MLP model"
   ]
  },
  {
   "cell_type": "code",
   "execution_count": 17,
   "metadata": {},
   "outputs": [
    {
     "name": "stdout",
     "output_type": "stream",
     "text": [
      "Epoch 1/25\n",
      "\u001b[1m441/441\u001b[0m \u001b[32m━━━━━━━━━━━━━━━━━━━━\u001b[0m\u001b[37m\u001b[0m \u001b[1m4s\u001b[0m 9ms/step - accuracy: 0.5284 - loss: 2.2176 - val_accuracy: 0.9821 - val_loss: 0.0854\n",
      "Epoch 2/25\n",
      "\u001b[1m441/441\u001b[0m \u001b[32m━━━━━━━━━━━━━━━━━━━━\u001b[0m\u001b[37m\u001b[0m \u001b[1m3s\u001b[0m 8ms/step - accuracy: 0.9531 - loss: 0.1690 - val_accuracy: 0.9952 - val_loss: 0.0262\n",
      "Epoch 3/25\n",
      "\u001b[1m441/441\u001b[0m \u001b[32m━━━━━━━━━━━━━━━━━━━━\u001b[0m\u001b[37m\u001b[0m \u001b[1m3s\u001b[0m 8ms/step - accuracy: 0.9776 - loss: 0.0812 - val_accuracy: 0.9972 - val_loss: 0.0132\n",
      "Epoch 4/25\n",
      "\u001b[1m441/441\u001b[0m \u001b[32m━━━━━━━━━━━━━━━━━━━━\u001b[0m\u001b[37m\u001b[0m \u001b[1m3s\u001b[0m 7ms/step - accuracy: 0.9845 - loss: 0.0527 - val_accuracy: 0.9981 - val_loss: 0.0095\n",
      "Epoch 5/25\n",
      "\u001b[1m441/441\u001b[0m \u001b[32m━━━━━━━━━━━━━━━━━━━━\u001b[0m\u001b[37m\u001b[0m \u001b[1m3s\u001b[0m 7ms/step - accuracy: 0.9884 - loss: 0.0409 - val_accuracy: 0.9980 - val_loss: 0.0076\n",
      "Epoch 6/25\n",
      "\u001b[1m441/441\u001b[0m \u001b[32m━━━━━━━━━━━━━━━━━━━━\u001b[0m\u001b[37m\u001b[0m \u001b[1m3s\u001b[0m 7ms/step - accuracy: 0.9893 - loss: 0.0350 - val_accuracy: 0.9983 - val_loss: 0.0065\n",
      "Epoch 7/25\n",
      "\u001b[1m441/441\u001b[0m \u001b[32m━━━━━━━━━━━━━━━━━━━━\u001b[0m\u001b[37m\u001b[0m \u001b[1m3s\u001b[0m 7ms/step - accuracy: 0.9919 - loss: 0.0284 - val_accuracy: 0.9984 - val_loss: 0.0059\n",
      "Epoch 8/25\n",
      "\u001b[1m441/441\u001b[0m \u001b[32m━━━━━━━━━━━━━━━━━━━━\u001b[0m\u001b[37m\u001b[0m \u001b[1m3s\u001b[0m 7ms/step - accuracy: 0.9904 - loss: 0.0306 - val_accuracy: 0.9990 - val_loss: 0.0047\n",
      "Epoch 9/25\n",
      "\u001b[1m441/441\u001b[0m \u001b[32m━━━━━━━━━━━━━━━━━━━━\u001b[0m\u001b[37m\u001b[0m \u001b[1m3s\u001b[0m 7ms/step - accuracy: 0.9936 - loss: 0.0209 - val_accuracy: 0.9985 - val_loss: 0.0066\n",
      "Epoch 10/25\n",
      "\u001b[1m441/441\u001b[0m \u001b[32m━━━━━━━━━━━━━━━━━━━━\u001b[0m\u001b[37m\u001b[0m \u001b[1m3s\u001b[0m 7ms/step - accuracy: 0.9931 - loss: 0.0212 - val_accuracy: 0.9988 - val_loss: 0.0051\n",
      "Epoch 11/25\n",
      "\u001b[1m441/441\u001b[0m \u001b[32m━━━━━━━━━━━━━━━━━━━━\u001b[0m\u001b[37m\u001b[0m \u001b[1m3s\u001b[0m 7ms/step - accuracy: 0.9923 - loss: 0.0247 - val_accuracy: 0.9994 - val_loss: 0.0036\n",
      "Epoch 12/25\n",
      "\u001b[1m441/441\u001b[0m \u001b[32m━━━━━━━━━━━━━━━━━━━━\u001b[0m\u001b[37m\u001b[0m \u001b[1m3s\u001b[0m 7ms/step - accuracy: 0.9922 - loss: 0.0239 - val_accuracy: 0.9987 - val_loss: 0.0054\n",
      "Epoch 13/25\n",
      "\u001b[1m441/441\u001b[0m \u001b[32m━━━━━━━━━━━━━━━━━━━━\u001b[0m\u001b[37m\u001b[0m \u001b[1m3s\u001b[0m 7ms/step - accuracy: 0.9930 - loss: 0.0215 - val_accuracy: 0.9985 - val_loss: 0.0059\n",
      "Epoch 14/25\n",
      "\u001b[1m441/441\u001b[0m \u001b[32m━━━━━━━━━━━━━━━━━━━━\u001b[0m\u001b[37m\u001b[0m \u001b[1m3s\u001b[0m 7ms/step - accuracy: 0.9940 - loss: 0.0199 - val_accuracy: 0.9984 - val_loss: 0.0063\n",
      "Epoch 15/25\n",
      "\u001b[1m441/441\u001b[0m \u001b[32m━━━━━━━━━━━━━━━━━━━━\u001b[0m\u001b[37m\u001b[0m \u001b[1m3s\u001b[0m 7ms/step - accuracy: 0.9937 - loss: 0.0187 - val_accuracy: 0.9989 - val_loss: 0.0048\n",
      "Epoch 16/25\n",
      "\u001b[1m441/441\u001b[0m \u001b[32m━━━━━━━━━━━━━━━━━━━━\u001b[0m\u001b[37m\u001b[0m \u001b[1m3s\u001b[0m 7ms/step - accuracy: 0.9937 - loss: 0.0191 - val_accuracy: 0.9990 - val_loss: 0.0036\n",
      "Epoch 17/25\n",
      "\u001b[1m441/441\u001b[0m \u001b[32m━━━━━━━━━━━━━━━━━━━━\u001b[0m\u001b[37m\u001b[0m \u001b[1m3s\u001b[0m 7ms/step - accuracy: 0.9941 - loss: 0.0188 - val_accuracy: 0.9992 - val_loss: 0.0035\n",
      "Epoch 18/25\n",
      "\u001b[1m441/441\u001b[0m \u001b[32m━━━━━━━━━━━━━━━━━━━━\u001b[0m\u001b[37m\u001b[0m \u001b[1m3s\u001b[0m 7ms/step - accuracy: 0.9923 - loss: 0.0252 - val_accuracy: 0.9992 - val_loss: 0.0036\n",
      "Epoch 19/25\n",
      "\u001b[1m441/441\u001b[0m \u001b[32m━━━━━━━━━━━━━━━━━━━━\u001b[0m\u001b[37m\u001b[0m \u001b[1m3s\u001b[0m 8ms/step - accuracy: 0.9931 - loss: 0.0202 - val_accuracy: 0.9991 - val_loss: 0.0048\n",
      "Epoch 20/25\n",
      "\u001b[1m441/441\u001b[0m \u001b[32m━━━━━━━━━━━━━━━━━━━━\u001b[0m\u001b[37m\u001b[0m \u001b[1m3s\u001b[0m 7ms/step - accuracy: 0.9937 - loss: 0.0182 - val_accuracy: 0.9989 - val_loss: 0.0042\n",
      "Epoch 21/25\n",
      "\u001b[1m441/441\u001b[0m \u001b[32m━━━━━━━━━━━━━━━━━━━━\u001b[0m\u001b[37m\u001b[0m \u001b[1m3s\u001b[0m 7ms/step - accuracy: 0.9944 - loss: 0.0154 - val_accuracy: 0.9988 - val_loss: 0.0043\n",
      "Epoch 22/25\n",
      "\u001b[1m441/441\u001b[0m \u001b[32m━━━━━━━━━━━━━━━━━━━━\u001b[0m\u001b[37m\u001b[0m \u001b[1m3s\u001b[0m 7ms/step - accuracy: 0.9948 - loss: 0.0161 - val_accuracy: 0.9994 - val_loss: 0.0033\n",
      "Epoch 23/25\n",
      "\u001b[1m441/441\u001b[0m \u001b[32m━━━━━━━━━━━━━━━━━━━━\u001b[0m\u001b[37m\u001b[0m \u001b[1m3s\u001b[0m 7ms/step - accuracy: 0.9952 - loss: 0.0139 - val_accuracy: 0.9994 - val_loss: 0.0037\n",
      "Epoch 24/25\n",
      "\u001b[1m441/441\u001b[0m \u001b[32m━━━━━━━━━━━━━━━━━━━━\u001b[0m\u001b[37m\u001b[0m \u001b[1m3s\u001b[0m 7ms/step - accuracy: 0.9952 - loss: 0.0149 - val_accuracy: 0.9994 - val_loss: 0.0037\n",
      "Epoch 25/25\n",
      "\u001b[1m441/441\u001b[0m \u001b[32m━━━━━━━━━━━━━━━━━━━━\u001b[0m\u001b[37m\u001b[0m \u001b[1m3s\u001b[0m 8ms/step - accuracy: 0.9941 - loss: 0.0184 - val_accuracy: 0.9992 - val_loss: 0.0038\n",
      "Training Time: 81.50 seconds\n"
     ]
    }
   ],
   "source": [
    "start_time = time.time()\n",
    "history_mlp = mlp.fit(\n",
    "    X_train_small,                # 80% X_train_normalized\n",
    "    y_train_small_one_hot,        \n",
    "    batch_size=128,              \n",
    "    epochs=25,               \n",
    "    verbose=1,               \n",
    "    validation_data=(X_val, y_val_one_hot)  \n",
    ")\n",
    "training_time = time.time() - start_time\n",
    "print(f\"Training Time: {training_time:.2f} seconds\")\n"
   ]
  },
  {
   "cell_type": "code",
   "execution_count": 18,
   "metadata": {},
   "outputs": [
    {
     "name": "stdout",
     "output_type": "stream",
     "text": [
      "Best test accuracy was 0.999362 at epoch 11\n"
     ]
    }
   ],
   "source": [
    "best_score = max(history_mlp.history['val_accuracy'])\n",
    "best_epoch = np.array(history_mlp.history['val_accuracy']).argmax()+1\n",
    "print('Best test accuracy was %f at epoch %i' % (best_score, best_epoch))"
   ]
  },
  {
   "cell_type": "markdown",
   "metadata": {},
   "source": [
    "### Table Report"
   ]
  },
  {
   "cell_type": "code",
   "execution_count": 19,
   "metadata": {},
   "outputs": [
    {
     "name": "stdout",
     "output_type": "stream",
     "text": [
      "\u001b[1m739/739\u001b[0m \u001b[32m━━━━━━━━━━━━━━━━━━━━\u001b[0m\u001b[37m\u001b[0m \u001b[1m1s\u001b[0m 1ms/step - accuracy: 0.8745 - loss: 1.0267\n",
      "Test Loss: 0.9510093927383423\n",
      "Test Accuracy: 0.8802658915519714\n"
     ]
    }
   ],
   "source": [
    "test_loss_mlp, test_accuracy_mlp = mlp.evaluate(X_test_normalized, y_test_one_hot, verbose=1)\n",
    "print(f\"Test Loss: {test_loss_mlp}\")\n",
    "print(f\"Test Accuracy: {test_accuracy_mlp}\")"
   ]
  },
  {
   "cell_type": "code",
   "execution_count": 20,
   "metadata": {},
   "outputs": [
    {
     "name": "stdout",
     "output_type": "stream",
     "text": [
      "\u001b[1m739/739\u001b[0m \u001b[32m━━━━━━━━━━━━━━━━━━━━\u001b[0m\u001b[37m\u001b[0m \u001b[1m1s\u001b[0m 1ms/step  \n"
     ]
    }
   ],
   "source": [
    "\n",
    "y_pred = mlp.predict(X_test_normalized)\n",
    "\n",
    "y_pred_classes = y_pred.argmax(axis=1)\n",
    "\n",
    "y_test_classes = y_test_one_hot.argmax(axis=1)\n"
   ]
  },
  {
   "cell_type": "code",
   "execution_count": 21,
   "metadata": {},
   "outputs": [
    {
     "name": "stdout",
     "output_type": "stream",
     "text": [
      "              precision    recall  f1-score   support\n",
      "\n",
      "           0     0.8579    1.0000    0.9235       157\n",
      "           1     0.7195    0.7195    0.7195       164\n",
      "           2     0.7277    0.9932    0.8400       148\n",
      "           3     0.9178    0.8515    0.8834       485\n",
      "           4     0.9496    0.6890    0.7986       164\n",
      "           5     0.9497    0.9934    0.9711       152\n",
      "           6     0.7565    0.7966    0.7761       472\n",
      "           7     0.9937    0.9458    0.9691       166\n",
      "           8     0.8715    0.9034    0.8872       383\n",
      "           9     0.8667    1.0000    0.9286       234\n",
      "          10     0.9108    0.8720    0.8910       164\n",
      "          11     0.8071    0.7902    0.7986       143\n",
      "          12     0.9701    0.9759    0.9730       166\n",
      "          13     0.9908    0.6506    0.7855       166\n",
      "          14     0.5838    0.7566    0.6590       152\n",
      "          15     0.9231    0.5783    0.7111       166\n",
      "          16     0.7129    0.4800    0.5737       150\n",
      "          17     0.9107    0.9935    0.9503       154\n",
      "          18     0.7833    1.0000    0.8785        47\n",
      "          19     0.9048    0.9157    0.9102       166\n",
      "          20     1.0000    0.9970    0.9985       328\n",
      "          21     0.9928    0.8313    0.9049       166\n",
      "          22     1.0000    1.0000    1.0000        50\n",
      "          23     0.8321    0.9530    0.8884       234\n",
      "          24     0.9067    0.9951    0.9488       410\n",
      "          25     0.9764    0.8415    0.9039       246\n",
      "          26     1.0000    1.0000    1.0000       164\n",
      "          27     1.0000    1.0000    1.0000       164\n",
      "          28     1.0000    1.0000    1.0000       164\n",
      "          29     0.7530    0.8170    0.7837       153\n",
      "          30     0.8951    0.8735    0.8841       166\n",
      "          31     0.9671    0.8855    0.9245       166\n",
      "          32     0.6604    0.4667    0.5469       150\n",
      "          33     0.7520    0.6104    0.6738       154\n",
      "          34     0.9034    1.0000    0.9493       131\n",
      "          35     0.9173    0.8531    0.8841       286\n",
      "          36     0.8421    0.7711    0.8050       166\n",
      "          37     0.9811    0.6667    0.7939       156\n",
      "          38     0.9756    1.0000    0.9877        80\n",
      "          39     0.9782    0.9573    0.9676       234\n",
      "          40     0.7979    0.7576    0.7772        99\n",
      "          41     0.9171    1.0000    0.9568       166\n",
      "          42     0.9733    1.0000    0.9865       328\n",
      "          43     0.8075    0.7927    0.8000       164\n",
      "          44     0.9835    1.0000    0.9917       654\n",
      "          45     0.9822    1.0000    0.9910       166\n",
      "          46     0.7421    1.0000    0.8519       164\n",
      "          47     0.9937    0.9518    0.9723       166\n",
      "          48     0.9075    1.0000    0.9515       157\n",
      "          49     0.9632    0.9458    0.9544       166\n",
      "          50     0.9649    0.9940    0.9792       166\n",
      "          51     0.9255    0.9551    0.9401       156\n",
      "          52     0.8581    0.8471    0.8526       157\n",
      "          53     0.9080    0.9518    0.9294       166\n",
      "          54     0.8679    0.8415    0.8545       164\n",
      "          55     0.9326    1.0000    0.9651       166\n",
      "          56     0.9878    0.9759    0.9818       166\n",
      "          57     0.9940    1.0000    0.9970       166\n",
      "          58     0.8824    0.9036    0.8929       166\n",
      "          59     0.8820    0.9458    0.9128       166\n",
      "          60     0.8023    1.0000    0.8903       142\n",
      "          61     0.8305    0.9608    0.8909       102\n",
      "          62     0.7597    0.7048    0.7312       166\n",
      "          63     0.9459    0.9959    0.9703       246\n",
      "          64     0.9133    0.9634    0.9377       164\n",
      "          65     0.5506    0.2988    0.3874       164\n",
      "          66     0.8500    0.7438    0.7933       160\n",
      "          67     0.9468    0.8165    0.8768       218\n",
      "          68     0.9448    0.8652    0.9032       178\n",
      "          69     0.6096    0.9267    0.7354       150\n",
      "          70     0.7852    0.6839    0.7310       155\n",
      "          71     0.5078    0.6712    0.5782       146\n",
      "          72     1.0000    1.0000    1.0000       160\n",
      "          73     0.6940    0.9817    0.8131       164\n",
      "          74     0.9881    1.0000    0.9940       166\n",
      "          75     0.7978    0.9049    0.8480       410\n",
      "          76     0.9091    0.7317    0.8108       164\n",
      "          77     0.7173    0.5855    0.6447       468\n",
      "          78     0.9091    0.9639    0.9357       166\n",
      "          79     0.7079    0.9530    0.8124       234\n",
      "          80     0.9806    0.9902    0.9854       102\n",
      "          81     0.7556    0.4096    0.5312       166\n",
      "          82     0.8353    0.6396    0.7245       222\n",
      "          83     0.8735    0.9030    0.8880       237\n",
      "          84     0.9929    0.8373    0.9085       166\n",
      "          85     0.9487    0.8916    0.9193       166\n",
      "          86     0.5844    0.9595    0.7263       148\n",
      "          87     0.8624    0.6966    0.7707       234\n",
      "          88     0.8596    0.6892    0.7650       222\n",
      "          89     0.8369    0.8784    0.8571       222\n",
      "          90     1.0000    1.0000    1.0000       164\n",
      "          91     0.8402    0.9939    0.9106       164\n",
      "          92     0.9763    0.9940    0.9851       166\n",
      "          93     0.9306    0.9877    0.9583       163\n",
      "          94     0.9647    0.9880    0.9762       166\n",
      "          95     0.8432    0.8827    0.8625       597\n",
      "          96     0.9145    0.8476    0.8797       164\n",
      "          97     0.9789    0.9085    0.9424       153\n",
      "          98     0.7521    0.5867    0.6592       150\n",
      "          99     0.9369    0.6887    0.7939       151\n",
      "         100     0.7111    0.6400    0.6737       150\n",
      "         101     0.7248    0.7200    0.7224       150\n",
      "         102     0.9121    1.0000    0.9540       166\n",
      "         103     1.0000    0.9756    0.9877       164\n",
      "         104     0.9249    0.9639    0.9440       166\n",
      "         105     0.9820    1.0000    0.9909       164\n",
      "         106     0.9310    1.0000    0.9643       162\n",
      "         107     0.8690    0.7683    0.8155       164\n",
      "         108     0.9307    0.7642    0.8393       246\n",
      "         109     0.9651    1.0000    0.9822       166\n",
      "         110     0.9940    1.0000    0.9970       166\n",
      "         111     0.9843    1.0000    0.9921       877\n",
      "         112     1.0000    1.0000    1.0000       164\n",
      "         113     0.9820    0.9561    0.9689       228\n",
      "         114     0.9845    1.0000    0.9922       127\n",
      "         115     1.0000    0.9935    0.9967       153\n",
      "         116     0.9803    0.9430    0.9613       158\n",
      "         117     0.6994    1.0000    0.8231       249\n",
      "         118     0.8295    0.6815    0.7483       157\n",
      "         119     1.0000    1.0000    1.0000        80\n",
      "         120     0.7407    1.0000    0.8511        80\n",
      "\n",
      "    accuracy                         0.8803     23619\n",
      "   macro avg     0.8818    0.8778    0.8739     23619\n",
      "weighted avg     0.8849    0.8803    0.8774     23619\n",
      "\n"
     ]
    }
   ],
   "source": [
    "print(classification_report(y_test_classes, y_pred_classes, digits=4))"
   ]
  },
  {
   "cell_type": "markdown",
   "metadata": {},
   "source": [
    "### Loss and Accuracy curves"
   ]
  },
  {
   "cell_type": "code",
   "execution_count": 22,
   "metadata": {},
   "outputs": [
    {
     "data": {
      "image/png": "[encoded data removed]",
      "text/plain": [
       "<Figure size 1200x600 with 2 Axes>"
      ]
     },
     "metadata": {},
     "output_type": "display_data"
    }
   ],
   "source": [
    "plt.figure(figsize=(12, 6))\n",
    "\n",
    "#  (loss)\n",
    "plt.subplot(1, 2, 1)\n",
    "plt.plot(history_mlp.history['loss'], label='Train Loss', color='blue')\n",
    "plt.plot(history_mlp.history['val_loss'], label='Validation Loss', color='orange')\n",
    "plt.axhline(y=test_loss_mlp, color='green', linestyle='--', label='Test Loss')\n",
    "plt.title('Loss Curve')\n",
    "plt.xlabel('Epochs')\n",
    "plt.ylabel('Loss')\n",
    "plt.legend()\n",
    "\n",
    "# (accuracy)\n",
    "plt.subplot(1, 2, 2)\n",
    "plt.plot(history_mlp.history['accuracy'], label='Train Accuracy', color='blue')\n",
    "plt.plot(history_mlp.history['val_accuracy'], label='Validation Accuracy', color='orange')\n",
    "plt.axhline(y=test_accuracy_mlp, color='green', linestyle='--', label='Test Accuracy')\n",
    "plt.title('Accuracy Curve')\n",
    "plt.xlabel('Epochs')\n",
    "plt.ylabel('Accuracy')\n",
    "plt.legend()\n",
    "\n",
    "plt.tight_layout()\n",
    "plt.show()"
   ]
  },
  {
   "cell_type": "markdown",
   "metadata": {},
   "source": [
    "# 3.2.  MLP applied on images"
   ]
  },
  {
   "cell_type": "markdown",
   "metadata": {},
   "source": [
    "### Linearization and Normalization"
   ]
  },
  {
   "cell_type": "code",
   "execution_count": 23,
   "metadata": {},
   "outputs": [],
   "source": [
    "X_train_flat = X_train.reshape(X_train.shape[0], -1)\n",
    "X_test_flat = X_test.reshape(X_test.shape[0], -1)    \n",
    "\n",
    "scaler = StandardScaler()\n",
    "X_train_normalized = scaler.fit_transform(X_train_flat)\n",
    "X_test_normalized = scaler.transform(X_test_flat)\n"
   ]
  },
  {
   "cell_type": "markdown",
   "metadata": {},
   "source": [
    "### Validation Set"
   ]
  },
  {
   "cell_type": "code",
   "execution_count": 24,
   "metadata": {},
   "outputs": [
    {
     "name": "stdout",
     "output_type": "stream",
     "text": [
      "Training Set Size (0.8): (56392, 30000)\n",
      "Validation Set Size (0.2): (14099, 30000)\n",
      "Original Train Set Shape: (70491, 30000)\n",
      "Test Set Shape: (23619, 30000)\n"
     ]
    }
   ],
   "source": [
    "X_train_small, X_val, y_train_small, y_val = train_test_split(\n",
    "    X_train_normalized, y_train, test_size=0.2, random_state=42\n",
    ")\n",
    "\n",
    "print(f\"Training Set Size (0.8): {X_train_small.shape}\")\n",
    "print(f\"Validation Set Size (0.2): {X_val.shape}\")\n",
    "\n",
    "print(f\"Original Train Set Shape: {X_train_normalized.shape}\")\n",
    "print(f\"Test Set Shape: {X_test_normalized.shape}\")"
   ]
  },
  {
   "cell_type": "markdown",
   "metadata": {},
   "source": [
    "### One_hot conversion"
   ]
  },
  {
   "cell_type": "code",
   "execution_count": 25,
   "metadata": {},
   "outputs": [
    {
     "name": "stdout",
     "output_type": "stream",
     "text": [
      "Shape of y_train_small_one_hot: (56392, 121)\n",
      "Shape of y_val_one_hot: (14099, 121)\n",
      "Shape of y_test_one_hot: (23619, 121)\n"
     ]
    }
   ],
   "source": [
    "y_train_small_one_hot = to_categorical(y_train_small, num_classes=num_classes)\n",
    "y_val_one_hot = to_categorical(y_val, num_classes=num_classes)\n",
    "y_test_one_hot = to_categorical(y_test, num_classes=num_classes)\n",
    "\n",
    "print(\"Shape of y_train_small_one_hot:\", y_train_small_one_hot.shape)\n",
    "print(\"Shape of y_val_one_hot:\", y_val_one_hot.shape)\n",
    "print(\"Shape of y_test_one_hot:\", y_test_one_hot.shape)"
   ]
  },
  {
   "cell_type": "markdown",
   "metadata": {},
   "source": [
    "### MLP on images"
   ]
  },
  {
   "cell_type": "code",
   "execution_count": 34,
   "metadata": {},
   "outputs": [
    {
     "name": "stderr",
     "output_type": "stream",
     "text": [
      "/opt/anaconda3/lib/python3.12/site-packages/keras/src/layers/core/dense.py:87: UserWarning: Do not pass an `input_shape`/`input_dim` argument to a layer. When using Sequential models, prefer using an `Input(shape)` object as the first layer in the model instead.\n",
      "  super().__init__(activity_regularizer=activity_regularizer, **kwargs)\n"
     ]
    }
   ],
   "source": [
    "mlp_img = Sequential([\n",
    "    Dense(512, input_shape=(30000,)),  # Input layer with 512 units\n",
    "    Activation('relu'),             # ReLU activation\n",
    "    Dropout(0.3),                   # Dropout for regularization\n",
    "    Dense(512),                     # Hidden layer with 512 units\n",
    "    Activation('relu'),             # ReLU activation\n",
    "    Dropout(0.3),                   # Dropout for regularization\n",
    "    Dense(num_classes),                      # Output layer with 10 units (num_classes)\n",
    "    Activation('softmax')           # Softmax activation for probabilities\n",
    "])"
   ]
  },
  {
   "cell_type": "code",
   "execution_count": 35,
   "metadata": {},
   "outputs": [],
   "source": [
    "mlp_img.compile(optimizer='adam',\n",
    "              loss='categorical_crossentropy',\n",
    "              metrics=['accuracy'])"
   ]
  },
  {
   "cell_type": "markdown",
   "metadata": {},
   "source": [
    "### Training the MLP on images"
   ]
  },
  {
   "cell_type": "code",
   "execution_count": 36,
   "metadata": {},
   "outputs": [
    {
     "name": "stdout",
     "output_type": "stream",
     "text": [
      "Epoch 1/25\n",
      "\u001b[1m441/441\u001b[0m \u001b[32m━━━━━━━━━━━━━━━━━━━━\u001b[0m\u001b[37m\u001b[0m \u001b[1m34s\u001b[0m 76ms/step - accuracy: 0.4048 - loss: 4.8551 - val_accuracy: 0.9189 - val_loss: 0.2860\n",
      "Epoch 2/25\n",
      "\u001b[1m441/441\u001b[0m \u001b[32m━━━━━━━━━━━━━━━━━━━━\u001b[0m\u001b[37m\u001b[0m \u001b[1m21s\u001b[0m 47ms/step - accuracy: 0.8066 - loss: 0.7329 - val_accuracy: 0.9594 - val_loss: 0.1282\n",
      "Epoch 3/25\n",
      "\u001b[1m441/441\u001b[0m \u001b[32m━━━━━━━━━━━━━━━━━━━━\u001b[0m\u001b[37m\u001b[0m \u001b[1m20s\u001b[0m 46ms/step - accuracy: 0.8560 - loss: 0.5700 - val_accuracy: 0.9590 - val_loss: 0.1361\n",
      "Epoch 4/25\n",
      "\u001b[1m441/441\u001b[0m \u001b[32m━━━━━━━━━━━━━━━━━━━━\u001b[0m\u001b[37m\u001b[0m \u001b[1m20s\u001b[0m 46ms/step - accuracy: 0.8691 - loss: 0.5807 - val_accuracy: 0.9651 - val_loss: 0.1333\n",
      "Epoch 5/25\n",
      "\u001b[1m441/441\u001b[0m \u001b[32m━━━━━━━━━━━━━━━━━━━━\u001b[0m\u001b[37m\u001b[0m \u001b[1m20s\u001b[0m 46ms/step - accuracy: 0.8829 - loss: 0.5818 - val_accuracy: 0.9729 - val_loss: 0.0803\n",
      "Epoch 6/25\n",
      "\u001b[1m441/441\u001b[0m \u001b[32m━━━━━━━━━━━━━━━━━━━━\u001b[0m\u001b[37m\u001b[0m \u001b[1m20s\u001b[0m 45ms/step - accuracy: 0.8805 - loss: 0.6840 - val_accuracy: 0.9723 - val_loss: 0.1025\n",
      "Epoch 7/25\n",
      "\u001b[1m441/441\u001b[0m \u001b[32m━━━━━━━━━━━━━━━━━━━━\u001b[0m\u001b[37m\u001b[0m \u001b[1m21s\u001b[0m 47ms/step - accuracy: 0.8875 - loss: 0.6727 - val_accuracy: 0.9622 - val_loss: 0.1516\n",
      "Epoch 8/25\n",
      "\u001b[1m441/441\u001b[0m \u001b[32m━━━━━━━━━━━━━━━━━━━━\u001b[0m\u001b[37m\u001b[0m \u001b[1m21s\u001b[0m 48ms/step - accuracy: 0.8774 - loss: 0.8207 - val_accuracy: 0.9715 - val_loss: 0.1031\n",
      "Epoch 9/25\n",
      "\u001b[1m441/441\u001b[0m \u001b[32m━━━━━━━━━━━━━━━━━━━━\u001b[0m\u001b[37m\u001b[0m \u001b[1m22s\u001b[0m 49ms/step - accuracy: 0.8921 - loss: 0.7851 - val_accuracy: 0.9695 - val_loss: 0.1258\n",
      "Epoch 10/25\n",
      "\u001b[1m441/441\u001b[0m \u001b[32m━━━━━━━━━━━━━━━━━━━━\u001b[0m\u001b[37m\u001b[0m \u001b[1m21s\u001b[0m 47ms/step - accuracy: 0.9003 - loss: 0.7797 - val_accuracy: 0.9731 - val_loss: 0.1339\n",
      "Epoch 11/25\n",
      "\u001b[1m441/441\u001b[0m \u001b[32m━━━━━━━━━━━━━━━━━━━━\u001b[0m\u001b[37m\u001b[0m \u001b[1m20s\u001b[0m 46ms/step - accuracy: 0.9027 - loss: 0.8246 - val_accuracy: 0.9767 - val_loss: 0.1135\n",
      "Epoch 12/25\n",
      "\u001b[1m441/441\u001b[0m \u001b[32m━━━━━━━━━━━━━━━━━━━━\u001b[0m\u001b[37m\u001b[0m \u001b[1m20s\u001b[0m 46ms/step - accuracy: 0.9053 - loss: 0.8086 - val_accuracy: 0.9757 - val_loss: 0.1017\n",
      "Epoch 13/25\n",
      "\u001b[1m441/441\u001b[0m \u001b[32m━━━━━━━━━━━━━━━━━━━━\u001b[0m\u001b[37m\u001b[0m \u001b[1m20s\u001b[0m 45ms/step - accuracy: 0.9104 - loss: 0.7493 - val_accuracy: 0.9627 - val_loss: 0.1075\n",
      "Epoch 14/25\n",
      "\u001b[1m441/441\u001b[0m \u001b[32m━━━━━━━━━━━━━━━━━━━━\u001b[0m\u001b[37m\u001b[0m \u001b[1m20s\u001b[0m 45ms/step - accuracy: 0.9100 - loss: 0.7584 - val_accuracy: 0.9735 - val_loss: 0.1107\n",
      "Epoch 15/25\n",
      "\u001b[1m441/441\u001b[0m \u001b[32m━━━━━━━━━━━━━━━━━━━━\u001b[0m\u001b[37m\u001b[0m \u001b[1m20s\u001b[0m 45ms/step - accuracy: 0.9092 - loss: 0.8274 - val_accuracy: 0.9693 - val_loss: 0.1162\n",
      "Epoch 16/25\n",
      "\u001b[1m441/441\u001b[0m \u001b[32m━━━━━━━━━━━━━━━━━━━━\u001b[0m\u001b[37m\u001b[0m \u001b[1m20s\u001b[0m 46ms/step - accuracy: 0.9132 - loss: 0.8344 - val_accuracy: 0.9767 - val_loss: 0.1102\n",
      "Epoch 17/25\n",
      "\u001b[1m441/441\u001b[0m \u001b[32m━━━━━━━━━━━━━━━━━━━━\u001b[0m\u001b[37m\u001b[0m \u001b[1m20s\u001b[0m 46ms/step - accuracy: 0.9145 - loss: 0.9342 - val_accuracy: 0.9797 - val_loss: 0.0944\n",
      "Epoch 18/25\n",
      "\u001b[1m441/441\u001b[0m \u001b[32m━━━━━━━━━━━━━━━━━━━━\u001b[0m\u001b[37m\u001b[0m \u001b[1m21s\u001b[0m 47ms/step - accuracy: 0.9192 - loss: 0.8190 - val_accuracy: 0.9757 - val_loss: 0.1174\n",
      "Epoch 19/25\n",
      "\u001b[1m441/441\u001b[0m \u001b[32m━━━━━━━━━━━━━━━━━━━━\u001b[0m\u001b[37m\u001b[0m \u001b[1m21s\u001b[0m 47ms/step - accuracy: 0.9201 - loss: 0.8575 - val_accuracy: 0.9805 - val_loss: 0.0793\n",
      "Epoch 20/25\n",
      "\u001b[1m441/441\u001b[0m \u001b[32m━━━━━━━━━━━━━━━━━━━━\u001b[0m\u001b[37m\u001b[0m \u001b[1m20s\u001b[0m 46ms/step - accuracy: 0.9291 - loss: 0.8704 - val_accuracy: 0.9792 - val_loss: 0.0675\n",
      "Epoch 21/25\n",
      "\u001b[1m441/441\u001b[0m \u001b[32m━━━━━━━━━━━━━━━━━━━━\u001b[0m\u001b[37m\u001b[0m \u001b[1m21s\u001b[0m 48ms/step - accuracy: 0.9248 - loss: 0.8569 - val_accuracy: 0.9805 - val_loss: 0.1115\n",
      "Epoch 22/25\n",
      "\u001b[1m441/441\u001b[0m \u001b[32m━━━━━━━━━━━━━━━━━━━━\u001b[0m\u001b[37m\u001b[0m \u001b[1m21s\u001b[0m 47ms/step - accuracy: 0.9243 - loss: 0.8490 - val_accuracy: 0.9682 - val_loss: 0.1275\n",
      "Epoch 23/25\n",
      "\u001b[1m441/441\u001b[0m \u001b[32m━━━━━━━━━━━━━━━━━━━━\u001b[0m\u001b[37m\u001b[0m \u001b[1m21s\u001b[0m 47ms/step - accuracy: 0.9277 - loss: 0.8985 - val_accuracy: 0.9784 - val_loss: 0.0915\n",
      "Epoch 24/25\n",
      "\u001b[1m441/441\u001b[0m \u001b[32m━━━━━━━━━━━━━━━━━━━━\u001b[0m\u001b[37m\u001b[0m \u001b[1m21s\u001b[0m 47ms/step - accuracy: 0.9281 - loss: 0.8695 - val_accuracy: 0.9722 - val_loss: 0.1291\n",
      "Epoch 25/25\n",
      "\u001b[1m441/441\u001b[0m \u001b[32m━━━━━━━━━━━━━━━━━━━━\u001b[0m\u001b[37m\u001b[0m \u001b[1m21s\u001b[0m 47ms/step - accuracy: 0.9272 - loss: 0.9133 - val_accuracy: 0.9787 - val_loss: 0.1017\n",
      "Training Time: 535.54 seconds\n"
     ]
    }
   ],
   "source": [
    "start_time = time.time()\n",
    "history_mlp_img = mlp_img.fit(\n",
    "    X_train_small,                \n",
    "    y_train_small_one_hot,        \n",
    "    batch_size=128,               \n",
    "    epochs=25,                    \n",
    "    verbose=1,                   \n",
    "    validation_data=(X_val, y_val_one_hot)\n",
    ")\n",
    "training_time = time.time() - start_time\n",
    "print(f\"Training Time: {training_time:.2f} seconds\")\n"
   ]
  },
  {
   "cell_type": "code",
   "execution_count": 37,
   "metadata": {},
   "outputs": [
    {
     "name": "stdout",
     "output_type": "stream",
     "text": [
      "Best test accuracy was 0.980495 at epoch 19\n"
     ]
    }
   ],
   "source": [
    "best_score = max(history_mlp_img.history['val_accuracy'])\n",
    "best_epoch = np.array(history_mlp_img.history['val_accuracy']).argmax()+1\n",
    "print('Best test accuracy was %f at epoch %i' % (best_score, best_epoch))"
   ]
  },
  {
   "cell_type": "markdown",
   "metadata": {},
   "source": [
    "### Table Report"
   ]
  },
  {
   "cell_type": "code",
   "execution_count": 38,
   "metadata": {},
   "outputs": [
    {
     "name": "stdout",
     "output_type": "stream",
     "text": [
      "\u001b[1m739/739\u001b[0m \u001b[32m━━━━━━━━━━━━━━━━━━━━\u001b[0m\u001b[37m\u001b[0m \u001b[1m6s\u001b[0m 8ms/step - accuracy: 0.8760 - loss: 5.6435\n",
      "Test Loss: 4.761763095855713\n",
      "Test Accuracy: 0.8843727707862854\n"
     ]
    }
   ],
   "source": [
    "test_loss_mlp_img, test_accuracy_mlp_img = mlp_img.evaluate(X_test_normalized, y_test_one_hot, verbose=1)\n",
    "print(f\"Test Loss: {test_loss_mlp_img}\")\n",
    "print(f\"Test Accuracy: {test_accuracy_mlp_img}\")"
   ]
  },
  {
   "cell_type": "code",
   "execution_count": 39,
   "metadata": {},
   "outputs": [
    {
     "name": "stdout",
     "output_type": "stream",
     "text": [
      "\u001b[1m739/739\u001b[0m \u001b[32m━━━━━━━━━━━━━━━━━━━━\u001b[0m\u001b[37m\u001b[0m \u001b[1m6s\u001b[0m 7ms/step\n"
     ]
    }
   ],
   "source": [
    "y_pred = mlp_img.predict(X_test_normalized)\n",
    "\n",
    "y_pred_classes = y_pred.argmax(axis=1)\n",
    "\n",
    "y_test_classes = y_test_one_hot.argmax(axis=1)\n"
   ]
  },
  {
   "cell_type": "code",
   "execution_count": 40,
   "metadata": {},
   "outputs": [
    {
     "name": "stdout",
     "output_type": "stream",
     "text": [
      "              precision    recall  f1-score   support\n",
      "\n",
      "           0     0.9691    1.0000    0.9843       157\n",
      "           1     0.5000    0.6646    0.5707       164\n",
      "           2     0.8933    0.9054    0.8993       148\n",
      "           3     0.8959    0.9938    0.9423       485\n",
      "           4     0.9880    1.0000    0.9939       164\n",
      "           5     0.8686    0.7829    0.8235       152\n",
      "           6     0.9309    0.7987    0.8597       472\n",
      "           7     0.9586    0.9759    0.9672       166\n",
      "           8     0.9895    0.9817    0.9856       383\n",
      "           9     1.0000    1.0000    1.0000       234\n",
      "          10     0.9535    1.0000    0.9762       164\n",
      "          11     0.9408    1.0000    0.9695       143\n",
      "          12     0.9651    1.0000    0.9822       166\n",
      "          13     0.1963    0.1928    0.1945       166\n",
      "          14     0.7857    0.2171    0.3402       152\n",
      "          15     0.6929    0.5843    0.6340       166\n",
      "          16     0.5630    0.5067    0.5333       150\n",
      "          17     1.0000    0.7857    0.8800       154\n",
      "          18     0.8103    1.0000    0.8952        47\n",
      "          19     0.9792    0.5663    0.7176       166\n",
      "          20     0.9939    0.9970    0.9954       328\n",
      "          21     0.9762    0.7410    0.8425       166\n",
      "          22     0.1139    1.0000    0.2045        50\n",
      "          23     0.8897    1.0000    0.9416       234\n",
      "          24     0.8950    0.9976    0.9435       410\n",
      "          25     0.9722    0.7114    0.8216       246\n",
      "          26     1.0000    1.0000    1.0000       164\n",
      "          27     0.9480    1.0000    0.9733       164\n",
      "          28     1.0000    1.0000    1.0000       164\n",
      "          29     0.7135    0.8301    0.7674       153\n",
      "          30     0.9583    0.9699    0.9641       166\n",
      "          31     1.0000    0.8253    0.9043       166\n",
      "          32     0.7845    0.6067    0.6842       150\n",
      "          33     0.9506    0.5000    0.6553       154\n",
      "          34     0.9562    1.0000    0.9776       131\n",
      "          35     0.9669    0.9196    0.9427       286\n",
      "          36     0.8609    0.7831    0.8202       166\n",
      "          37     0.5440    0.6731    0.6017       156\n",
      "          38     0.9259    0.9375    0.9317        80\n",
      "          39     0.9176    1.0000    0.9571       234\n",
      "          40     0.4894    0.4646    0.4767        99\n",
      "          41     0.9432    1.0000    0.9708       166\n",
      "          42     0.9058    0.9970    0.9492       328\n",
      "          43     0.9939    1.0000    0.9970       164\n",
      "          44     0.9643    0.9924    0.9781       654\n",
      "          45     1.0000    1.0000    1.0000       166\n",
      "          46     1.0000    1.0000    1.0000       164\n",
      "          47     1.0000    1.0000    1.0000       166\n",
      "          48     0.9438    0.5350    0.6829       157\n",
      "          49     1.0000    1.0000    1.0000       166\n",
      "          50     0.9708    1.0000    0.9852       166\n",
      "          51     1.0000    0.9936    0.9968       156\n",
      "          52     0.9806    0.9682    0.9744       157\n",
      "          53     0.9651    1.0000    0.9822       166\n",
      "          54     0.9760    0.7439    0.8443       164\n",
      "          55     1.0000    1.0000    1.0000       166\n",
      "          56     1.0000    1.0000    1.0000       166\n",
      "          57     0.9822    1.0000    0.9910       166\n",
      "          58     0.9157    0.9157    0.9157       166\n",
      "          59     1.0000    1.0000    1.0000       166\n",
      "          60     0.9639    0.5634    0.7111       142\n",
      "          61     1.0000    0.6961    0.8208       102\n",
      "          62     1.0000    0.8735    0.9325       166\n",
      "          63     0.8881    1.0000    0.9407       246\n",
      "          64     0.9532    0.9939    0.9731       164\n",
      "          65     0.5821    0.4756    0.5235       164\n",
      "          66     1.0000    1.0000    1.0000       160\n",
      "          67     0.8482    1.0000    0.9179       218\n",
      "          68     0.9206    0.6517    0.7632       178\n",
      "          69     0.8208    0.9467    0.8793       150\n",
      "          70     1.0000    0.8710    0.9310       155\n",
      "          71     0.5309    1.0000    0.6936       146\n",
      "          72     1.0000    1.0000    1.0000       160\n",
      "          73     0.9762    1.0000    0.9880       164\n",
      "          74     0.9765    1.0000    0.9881       166\n",
      "          75     0.9133    0.9244    0.9188       410\n",
      "          76     0.9910    0.6707    0.8000       164\n",
      "          77     0.9226    0.6368    0.7535       468\n",
      "          78     0.6957    0.6747    0.6850       166\n",
      "          79     0.9650    0.8248    0.8894       234\n",
      "          80     0.8919    0.6471    0.7500       102\n",
      "          81     0.6975    1.0000    0.8218       166\n",
      "          82     0.9778    0.9910    0.9843       222\n",
      "          83     0.7406    0.8312    0.7833       237\n",
      "          84     0.9161    0.7892    0.8479       166\n",
      "          85     0.7598    0.9337    0.8378       166\n",
      "          86     0.8457    1.0000    0.9164       148\n",
      "          87     0.9646    0.9316    0.9478       234\n",
      "          88     0.8162    1.0000    0.8988       222\n",
      "          89     0.9537    0.9279    0.9406       222\n",
      "          90     1.0000    1.0000    1.0000       164\n",
      "          91     0.8497    1.0000    0.9188       164\n",
      "          92     0.9880    0.9940    0.9910       166\n",
      "          93     1.0000    0.9693    0.9844       163\n",
      "          94     0.8469    1.0000    0.9171       166\n",
      "          95     0.8523    0.8794    0.8656       597\n",
      "          96     0.8927    0.9634    0.9267       164\n",
      "          97     0.9744    0.9935    0.9838       153\n",
      "          98     0.8244    0.7200    0.7687       150\n",
      "          99     0.7660    0.7152    0.7397       151\n",
      "         100     0.3544    0.3733    0.3636       150\n",
      "         101     0.7500    0.8200    0.7834       150\n",
      "         102     0.9708    1.0000    0.9852       166\n",
      "         103     0.7990    0.9695    0.8760       164\n",
      "         104     0.9940    1.0000    0.9970       166\n",
      "         105     1.0000    0.9817    0.9908       164\n",
      "         106     0.9789    0.5741    0.7237       162\n",
      "         107     0.9918    0.7378    0.8462       164\n",
      "         108     0.8963    0.4919    0.6352       246\n",
      "         109     0.9486    1.0000    0.9736       166\n",
      "         110     1.0000    1.0000    1.0000       166\n",
      "         111     1.0000    1.0000    1.0000       877\n",
      "         112     1.0000    1.0000    1.0000       164\n",
      "         113     0.7801    0.9649    0.8627       228\n",
      "         114     1.0000    0.9685    0.9840       127\n",
      "         115     0.8947    1.0000    0.9444       153\n",
      "         116     0.9006    0.9747    0.9362       158\n",
      "         117     0.9222    1.0000    0.9595       249\n",
      "         118     0.9793    0.9045    0.9404       157\n",
      "         119     0.7077    0.5750    0.6345        80\n",
      "         120     1.0000    1.0000    1.0000        80\n",
      "\n",
      "    accuracy                         0.8844     23619\n",
      "   macro avg     0.8897    0.8718    0.8694     23619\n",
      "weighted avg     0.9038    0.8844    0.8858     23619\n",
      "\n"
     ]
    }
   ],
   "source": [
    "print(classification_report(y_test_classes, y_pred_classes, digits=4))\n"
   ]
  },
  {
   "cell_type": "markdown",
   "metadata": {},
   "source": [
    "### Loss and Accuracy curves"
   ]
  },
  {
   "cell_type": "code",
   "execution_count": 41,
   "metadata": {},
   "outputs": [
    {
     "data": {
      "image/png": "[encoded data removed]",
      "text/plain": [
       "<Figure size 1200x600 with 2 Axes>"
      ]
     },
     "metadata": {},
     "output_type": "display_data"
    }
   ],
   "source": [
    "plt.figure(figsize=(12, 6))\n",
    "\n",
    "#  (loss)\n",
    "plt.subplot(1, 2, 1)\n",
    "plt.plot(history_mlp_img.history['loss'], label='Train Loss', color='blue')\n",
    "plt.plot(history_mlp_img.history['val_loss'], label='Validation Loss', color='orange')\n",
    "plt.axhline(y=test_loss_mlp_img, color='green', linestyle='--', label='Test Loss')\n",
    "plt.title('Loss Curve')\n",
    "plt.xlabel('Epochs')\n",
    "plt.ylabel('Loss')\n",
    "plt.legend()\n",
    "\n",
    "# (accuracy)\n",
    "plt.subplot(1, 2, 2)\n",
    "plt.plot(history_mlp_img.history['accuracy'], label='Train Accuracy', color='blue')\n",
    "plt.plot(history_mlp_img.history['val_accuracy'], label='Validation Accuracy', color='orange')\n",
    "plt.axhline(y=test_accuracy_mlp_img, color='green', linestyle='--', label='Test Accuracy')\n",
    "plt.title('Accuracy Curve')\n",
    "plt.xlabel('Epochs')\n",
    "plt.ylabel('Accuracy')\n",
    "plt.legend()\n",
    "\n",
    "plt.tight_layout()\n",
    "plt.show()"
   ]
  },
  {
   "cell_type": "markdown",
   "metadata": {},
   "source": [
    "# 3.3. CNN"
   ]
  },
  {
   "cell_type": "markdown",
   "metadata": {},
   "source": [
    "### Image normalization [0,1]"
   ]
  },
  {
   "cell_type": "code",
   "execution_count": null,
   "metadata": {},
   "outputs": [],
   "source": [
    "X_train_normalized = X_train / 255.0\n",
    "X_test_normalized = X_test/ 255.0"
   ]
  },
  {
   "cell_type": "code",
   "execution_count": 44,
   "metadata": {},
   "outputs": [
    {
     "name": "stdout",
     "output_type": "stream",
     "text": [
      "(70491, 100, 100, 3)\n"
     ]
    }
   ],
   "source": [
    "print(X_train_normalized.shape)"
   ]
  },
  {
   "cell_type": "markdown",
   "metadata": {},
   "source": [
    "### Validation Set"
   ]
  },
  {
   "cell_type": "code",
   "execution_count": 45,
   "metadata": {},
   "outputs": [
    {
     "name": "stdout",
     "output_type": "stream",
     "text": [
      "Training Set Size (0.8): (56392, 100, 100, 3)\n",
      "Validation Set Size (0.2): (14099, 100, 100, 3)\n",
      "Original Train Set Shape: (70491, 100, 100, 3)\n",
      "Test Set Shape: (23619, 100, 100, 3)\n"
     ]
    }
   ],
   "source": [
    "X_train_small, X_val, y_train_small, y_val = train_test_split(\n",
    "    X_train_normalized, y_train, test_size=0.2, random_state=42\n",
    ")\n",
    "\n",
    "print(f\"Training Set Size (0.8): {X_train_small.shape}\")\n",
    "print(f\"Validation Set Size (0.2): {X_val.shape}\")\n",
    "\n",
    "print(f\"Original Train Set Shape: {X_train_normalized.shape}\")\n",
    "print(f\"Test Set Shape: {X_test_normalized.shape}\")"
   ]
  },
  {
   "cell_type": "markdown",
   "metadata": {},
   "source": [
    "### CNN definition"
   ]
  },
  {
   "cell_type": "code",
   "execution_count": 49,
   "metadata": {},
   "outputs": [],
   "source": [
    "from tensorflow.keras.models import Sequential\n",
    "from tensorflow.keras.layers import Conv2D, BatchNormalization, Activation, MaxPooling2D, Flatten, Dense, Dropout\n",
    "\n",
    "def create_cnn_model():\n",
    "    model = Sequential([\n",
    "        # Layer 1 - Convolutional\n",
    "        Conv2D(16, (3, 3), padding='same', input_shape=(100, 100, 3)), \n",
    "        BatchNormalization(),\n",
    "        Activation('relu'),\n",
    "        MaxPooling2D(pool_size=(2, 2)),\n",
    "        # Layer 2 - Convolutional\n",
    "        Conv2D(32, (3, 3), padding='same'),\n",
    "        BatchNormalization(),\n",
    "        Activation('relu'),\n",
    "        MaxPooling2D(pool_size=(2, 2)),\n",
    "\n",
    "        # Layer 3 - Convolutional\n",
    "        Conv2D(64, (3, 3), padding='same'),\n",
    "        BatchNormalization(),\n",
    "        Activation('relu'),\n",
    "        MaxPooling2D(pool_size=(2, 2)),\n",
    "        # Flattening\n",
    "        Flatten(), \n",
    "\n",
    "        # Fully Connected Layer\n",
    "        Dense(128, activation='relu'), \n",
    "        Dropout(0.5),\n",
    "\n",
    "        # Output Layer\n",
    "        Dense(121, activation='softmax') \n",
    "    ])\n",
    "    return model\n",
    "\n",
    "\n"
   ]
  },
  {
   "cell_type": "markdown",
   "metadata": {},
   "source": [
    "## A. CNN on original dataset"
   ]
  },
  {
   "cell_type": "code",
   "execution_count": null,
   "metadata": {},
   "outputs": [
    {
     "name": "stdout",
     "output_type": "stream",
     "text": [
      "Epoch 1/20\n",
      "\u001b[1m441/441\u001b[0m \u001b[32m━━━━━━━━━━━━━━━━━━━━\u001b[0m\u001b[37m\u001b[0m \u001b[1m85s\u001b[0m 190ms/step - accuracy: 0.0716 - loss: 4.2486 - val_accuracy: 0.2982 - val_loss: 2.5766\n",
      "Epoch 2/20\n",
      "\u001b[1m441/441\u001b[0m \u001b[32m━━━━━━━━━━━━━━━━━━━━\u001b[0m\u001b[37m\u001b[0m \u001b[1m82s\u001b[0m 186ms/step - accuracy: 0.1508 - loss: 3.2609 - val_accuracy: 0.5442 - val_loss: 1.7751\n",
      "Epoch 3/20\n",
      "\u001b[1m441/441\u001b[0m \u001b[32m━━━━━━━━━━━━━━━━━━━━\u001b[0m\u001b[37m\u001b[0m \u001b[1m82s\u001b[0m 186ms/step - accuracy: 0.1781 - loss: 3.0538 - val_accuracy: 0.5463 - val_loss: 1.7700\n",
      "Epoch 4/20\n",
      "\u001b[1m441/441\u001b[0m \u001b[32m━━━━━━━━━━━━━━━━━━━━\u001b[0m\u001b[37m\u001b[0m \u001b[1m81s\u001b[0m 184ms/step - accuracy: 0.2008 - loss: 2.9238 - val_accuracy: 0.5202 - val_loss: 1.5885\n",
      "Epoch 5/20\n",
      "\u001b[1m441/441\u001b[0m \u001b[32m━━━━━━━━━━━━━━━━━━━━\u001b[0m\u001b[37m\u001b[0m \u001b[1m82s\u001b[0m 186ms/step - accuracy: 0.2228 - loss: 2.7873 - val_accuracy: 0.5699 - val_loss: 1.5519\n",
      "Epoch 6/20\n",
      "\u001b[1m441/441\u001b[0m \u001b[32m━━━━━━━━━━━━━━━━━━━━\u001b[0m\u001b[37m\u001b[0m \u001b[1m83s\u001b[0m 188ms/step - accuracy: 0.2271 - loss: 2.7383 - val_accuracy: 0.7574 - val_loss: 1.1248\n",
      "Epoch 7/20\n",
      "\u001b[1m441/441\u001b[0m \u001b[32m━━━━━━━━━━━━━━━━━━━━\u001b[0m\u001b[37m\u001b[0m \u001b[1m85s\u001b[0m 193ms/step - accuracy: 0.2422 - loss: 2.6692 - val_accuracy: 0.6247 - val_loss: 1.3176\n",
      "Epoch 8/20\n",
      "\u001b[1m441/441\u001b[0m \u001b[32m━━━━━━━━━━━━━━━━━━━━\u001b[0m\u001b[37m\u001b[0m \u001b[1m85s\u001b[0m 192ms/step - accuracy: 0.2483 - loss: 2.6325 - val_accuracy: 0.7589 - val_loss: 1.0257\n",
      "Epoch 9/20\n",
      "\u001b[1m441/441\u001b[0m \u001b[32m━━━━━━━━━━━━━━━━━━━━\u001b[0m\u001b[37m\u001b[0m \u001b[1m86s\u001b[0m 194ms/step - accuracy: 0.2568 - loss: 2.5941 - val_accuracy: 0.7074 - val_loss: 1.1280\n",
      "Epoch 10/20\n",
      "\u001b[1m441/441\u001b[0m \u001b[32m━━━━━━━━━━━━━━━━━━━━\u001b[0m\u001b[37m\u001b[0m \u001b[1m82s\u001b[0m 186ms/step - accuracy: 0.2809 - loss: 2.4896 - val_accuracy: 0.7546 - val_loss: 0.9851\n",
      "Epoch 11/20\n",
      "\u001b[1m441/441\u001b[0m \u001b[32m━━━━━━━━━━━━━━━━━━━━\u001b[0m\u001b[37m\u001b[0m \u001b[1m81s\u001b[0m 183ms/step - accuracy: 0.2924 - loss: 2.4438 - val_accuracy: 0.7713 - val_loss: 0.9328\n",
      "Epoch 12/20\n",
      "\u001b[1m441/441\u001b[0m \u001b[32m━━━━━━━━━━━━━━━━━━━━\u001b[0m\u001b[37m\u001b[0m \u001b[1m81s\u001b[0m 184ms/step - accuracy: 0.3033 - loss: 2.4094 - val_accuracy: 0.8484 - val_loss: 0.8267\n",
      "Epoch 13/20\n",
      "\u001b[1m441/441\u001b[0m \u001b[32m━━━━━━━━━━━━━━━━━━━━\u001b[0m\u001b[37m\u001b[0m \u001b[1m82s\u001b[0m 186ms/step - accuracy: 0.3033 - loss: 2.3904 - val_accuracy: 0.8672 - val_loss: 0.7249\n",
      "Epoch 14/20\n",
      "\u001b[1m441/441\u001b[0m \u001b[32m━━━━━━━━━━━━━━━━━━━━\u001b[0m\u001b[37m\u001b[0m \u001b[1m81s\u001b[0m 184ms/step - accuracy: 0.3089 - loss: 2.3682 - val_accuracy: 0.8843 - val_loss: 0.6947\n",
      "Epoch 15/20\n",
      "\u001b[1m441/441\u001b[0m \u001b[32m━━━━━━━━━━━━━━━━━━━━\u001b[0m\u001b[37m\u001b[0m \u001b[1m84s\u001b[0m 190ms/step - accuracy: 0.3195 - loss: 2.3330 - val_accuracy: 0.8932 - val_loss: 0.6369\n",
      "Epoch 16/20\n",
      "\u001b[1m441/441\u001b[0m \u001b[32m━━━━━━━━━━━━━━━━━━━━\u001b[0m\u001b[37m\u001b[0m \u001b[1m84s\u001b[0m 191ms/step - accuracy: 0.3197 - loss: 2.3344 - val_accuracy: 0.8320 - val_loss: 0.8104\n",
      "Epoch 17/20\n",
      "\u001b[1m441/441\u001b[0m \u001b[32m━━━━━━━━━━━━━━━━━━━━\u001b[0m\u001b[37m\u001b[0m \u001b[1m83s\u001b[0m 189ms/step - accuracy: 0.3287 - loss: 2.3211 - val_accuracy: 0.9147 - val_loss: 0.6147\n",
      "Epoch 18/20\n",
      "\u001b[1m441/441\u001b[0m \u001b[32m━━━━━━━━━━━━━━━━━━━━\u001b[0m\u001b[37m\u001b[0m \u001b[1m83s\u001b[0m 189ms/step - accuracy: 0.3287 - loss: 2.3029 - val_accuracy: 0.8339 - val_loss: 0.8614\n",
      "Epoch 19/20\n",
      "\u001b[1m441/441\u001b[0m \u001b[32m━━━━━━━━━━━━━━━━━━━━\u001b[0m\u001b[37m\u001b[0m \u001b[1m83s\u001b[0m 189ms/step - accuracy: 0.3360 - loss: 2.2961 - val_accuracy: 0.9261 - val_loss: 0.6157\n",
      "Epoch 20/20\n",
      "\u001b[1m441/441\u001b[0m \u001b[32m━━━━━━━━━━━━━━━━━━━━\u001b[0m\u001b[37m\u001b[0m \u001b[1m83s\u001b[0m 189ms/step - accuracy: 0.3402 - loss: 2.2772 - val_accuracy: 0.9397 - val_loss: 0.6077\n",
      "Training Time: 1669.83 seconds\n"
     ]
    }
   ],
   "source": [
    "model_without_aug = create_cnn_model()\n",
    "\n",
    "model_without_aug.compile(optimizer='adam',\n",
    "                          loss='sparse_categorical_crossentropy',\n",
    "                          metrics=['accuracy'])\n",
    "\n",
    "\n",
    "start_time = time.time()\n",
    "history_without_aug = model_without_aug.fit(\n",
    "    X_train_small, y_train_small,\n",
    "    validation_data=(X_val, y_val),\n",
    "    epochs=20,\n",
    "    batch_size=128,\n",
    "    verbose=1\n",
    ")\n",
    "training_time = time.time() - start_time\n",
    "print(f\"Training Time: {training_time:.2f} seconds\")"
   ]
  },
  {
   "cell_type": "markdown",
   "metadata": {},
   "source": [
    "### Table Report"
   ]
  },
  {
   "cell_type": "code",
   "execution_count": 52,
   "metadata": {},
   "outputs": [
    {
     "name": "stdout",
     "output_type": "stream",
     "text": [
      "Test Loss (No Augmentation): 0.8542577028274536\n",
      "Test Accuracy (No Augmentation): 0.8560057878494263\n"
     ]
    }
   ],
   "source": [
    "test_loss_no_aug, test_accuracy_no_aug = model_without_aug.evaluate(\n",
    "    X_test_normalized, y_test, verbose=0\n",
    ")\n",
    "\n",
    "print(f\"Test Loss (No Augmentation): {test_loss_no_aug}\")\n",
    "print(f\"Test Accuracy (No Augmentation): {test_accuracy_no_aug}\")"
   ]
  },
  {
   "cell_type": "code",
   "execution_count": 53,
   "metadata": {},
   "outputs": [
    {
     "name": "stdout",
     "output_type": "stream",
     "text": [
      "\u001b[1m739/739\u001b[0m \u001b[32m━━━━━━━━━━━━━━━━━━━━\u001b[0m\u001b[37m\u001b[0m \u001b[1m8s\u001b[0m 10ms/step\n"
     ]
    }
   ],
   "source": [
    "y_pred = model_without_aug.predict(X_test_normalized)\n",
    "\n",
    "y_pred_classes = y_pred.argmax(axis=1)\n",
    "\n",
    "y_test_classes = y_test_one_hot.argmax(axis=1)"
   ]
  },
  {
   "cell_type": "code",
   "execution_count": 54,
   "metadata": {},
   "outputs": [
    {
     "name": "stdout",
     "output_type": "stream",
     "text": [
      "              precision    recall  f1-score   support\n",
      "\n",
      "           0     0.7621    1.0000    0.8650       157\n",
      "           1     0.0000    0.0000    0.0000       164\n",
      "           2     1.0000    1.0000    1.0000       148\n",
      "           3     0.7282    1.0000    0.8427       485\n",
      "           4     1.0000    0.0244    0.0476       164\n",
      "           5     1.0000    0.6579    0.7937       152\n",
      "           6     0.6769    0.9809    0.8010       472\n",
      "           7     0.9792    0.8494    0.9097       166\n",
      "           8     0.9635    0.9661    0.9648       383\n",
      "           9     1.0000    0.8504    0.9192       234\n",
      "          10     0.9647    1.0000    0.9820       164\n",
      "          11     1.0000    1.0000    1.0000       143\n",
      "          12     0.9071    1.0000    0.9513       166\n",
      "          13     0.9006    0.8735    0.8869       166\n",
      "          14     0.9172    0.8750    0.8956       152\n",
      "          15     0.9034    0.9578    0.9298       166\n",
      "          16     0.6635    0.4600    0.5433       150\n",
      "          17     0.7857    0.2143    0.3367       154\n",
      "          18     1.0000    1.0000    1.0000        47\n",
      "          19     0.7117    0.4759    0.5704       166\n",
      "          20     0.8134    0.9970    0.8959       328\n",
      "          21     0.5362    0.6687    0.5952       166\n",
      "          22     0.0000    0.0000    0.0000        50\n",
      "          23     0.8182    1.0000    0.9000       234\n",
      "          24     0.9005    0.9488    0.9240       410\n",
      "          25     1.0000    1.0000    1.0000       246\n",
      "          26     1.0000    1.0000    1.0000       164\n",
      "          27     1.0000    1.0000    1.0000       164\n",
      "          28     1.0000    1.0000    1.0000       164\n",
      "          29     0.5588    0.2484    0.3439       153\n",
      "          30     1.0000    1.0000    1.0000       166\n",
      "          31     0.7078    0.9337    0.8052       166\n",
      "          32     1.0000    0.4800    0.6486       150\n",
      "          33     0.8115    0.6429    0.7174       154\n",
      "          34     0.9357    1.0000    0.9668       131\n",
      "          35     1.0000    0.9860    0.9930       286\n",
      "          36     0.8384    1.0000    0.9121       166\n",
      "          37     0.3597    0.3205    0.3390       156\n",
      "          38     1.0000    1.0000    1.0000        80\n",
      "          39     0.8764    1.0000    0.9341       234\n",
      "          40     1.0000    0.5556    0.7143        99\n",
      "          41     1.0000    0.9759    0.9878       166\n",
      "          42     0.9318    1.0000    0.9647       328\n",
      "          43     1.0000    1.0000    1.0000       164\n",
      "          44     0.9237    1.0000    0.9604       654\n",
      "          45     0.9577    0.4096    0.5738       166\n",
      "          46     1.0000    0.8780    0.9351       164\n",
      "          47     0.9286    0.0783    0.1444       166\n",
      "          48     0.6947    1.0000    0.8198       157\n",
      "          49     1.0000    1.0000    1.0000       166\n",
      "          50     0.6288    1.0000    0.7721       166\n",
      "          51     1.0000    1.0000    1.0000       156\n",
      "          52     0.9928    0.8726    0.9288       157\n",
      "          53     0.9803    0.8976    0.9371       166\n",
      "          54     0.8658    0.7866    0.8243       164\n",
      "          55     1.0000    1.0000    1.0000       166\n",
      "          56     0.9121    1.0000    0.9540       166\n",
      "          57     0.9618    0.7590    0.8485       166\n",
      "          58     1.0000    0.8795    0.9359       166\n",
      "          59     0.9940    1.0000    0.9970       166\n",
      "          60     0.9793    1.0000    0.9895       142\n",
      "          61     0.0000    0.0000    0.0000       102\n",
      "          62     1.0000    0.4578    0.6281       166\n",
      "          63     0.6949    1.0000    0.8200       246\n",
      "          64     0.7512    0.9939    0.8556       164\n",
      "          65     0.9389    0.7500    0.8339       164\n",
      "          66     0.7405    0.7312    0.7358       160\n",
      "          67     0.8195    1.0000    0.9008       218\n",
      "          68     0.9935    0.8539    0.9184       178\n",
      "          69     1.0000    0.7733    0.8722       150\n",
      "          70     1.0000    1.0000    1.0000       155\n",
      "          71     0.8824    0.9247    0.9030       146\n",
      "          72     1.0000    1.0000    1.0000       160\n",
      "          73     0.9773    0.5244    0.6825       164\n",
      "          74     1.0000    0.9096    0.9527       166\n",
      "          75     0.9118    0.9829    0.9460       410\n",
      "          76     0.8790    0.6646    0.7569       164\n",
      "          77     0.5622    0.8205    0.6672       468\n",
      "          78     1.0000    0.8012    0.8896       166\n",
      "          79     0.7986    1.0000    0.8880       234\n",
      "          80     1.0000    0.5196    0.6839       102\n",
      "          81     0.8785    0.9578    0.9164       166\n",
      "          82     1.0000    0.8694    0.9301       222\n",
      "          83     0.7303    0.7426    0.7364       237\n",
      "          84     0.9408    0.8614    0.8994       166\n",
      "          85     0.8743    0.8795    0.8769       166\n",
      "          86     0.9862    0.9662    0.9761       148\n",
      "          87     0.9404    0.9444    0.9424       234\n",
      "          88     1.0000    0.5721    0.7278       222\n",
      "          89     1.0000    1.0000    1.0000       222\n",
      "          90     0.9213    1.0000    0.9591       164\n",
      "          91     0.8542    0.7500    0.7987       164\n",
      "          92     1.0000    0.6988    0.8227       166\n",
      "          93     0.8629    0.9264    0.8935       163\n",
      "          94     1.0000    0.9217    0.9592       166\n",
      "          95     0.6291    1.0000    0.7723       597\n",
      "          96     0.6485    0.6524    0.6505       164\n",
      "          97     0.7765    0.8627    0.8173       153\n",
      "          98     0.8852    0.3600    0.5118       150\n",
      "          99     0.8140    0.9272    0.8669       151\n",
      "         100     0.5444    0.9400    0.6895       150\n",
      "         101     0.8371    0.9933    0.9085       150\n",
      "         102     1.0000    0.6145    0.7612       166\n",
      "         103     0.7864    0.9878    0.8757       164\n",
      "         104     1.0000    0.8072    0.8933       166\n",
      "         105     1.0000    0.9939    0.9969       164\n",
      "         106     0.9645    0.8395    0.8977       162\n",
      "         107     1.0000    0.6220    0.7669       164\n",
      "         108     0.6455    0.7033    0.6732       246\n",
      "         109     0.9273    0.9217    0.9245       166\n",
      "         110     0.9121    1.0000    0.9540       166\n",
      "         111     0.9032    1.0000    0.9491       877\n",
      "         112     1.0000    1.0000    1.0000       164\n",
      "         113     0.8615    0.8728    0.8671       228\n",
      "         114     1.0000    0.6457    0.7847       127\n",
      "         115     1.0000    1.0000    1.0000       153\n",
      "         116     0.6611    1.0000    0.7960       158\n",
      "         117     0.8384    1.0000    0.9121       249\n",
      "         118     1.0000    1.0000    1.0000       157\n",
      "         119     1.0000    1.0000    1.0000        80\n",
      "         120     0.0000    0.0000    0.0000        80\n",
      "\n",
      "    accuracy                         0.8560     23619\n",
      "   macro avg     0.8624    0.8186    0.8194     23619\n",
      "weighted avg     0.8620    0.8560    0.8397     23619\n",
      "\n"
     ]
    },
    {
     "name": "stderr",
     "output_type": "stream",
     "text": [
      "/opt/anaconda3/lib/python3.12/site-packages/sklearn/metrics/_classification.py:1509: UndefinedMetricWarning: Precision is ill-defined and being set to 0.0 in labels with no predicted samples. Use `zero_division` parameter to control this behavior.\n",
      "  _warn_prf(average, modifier, f\"{metric.capitalize()} is\", len(result))\n",
      "/opt/anaconda3/lib/python3.12/site-packages/sklearn/metrics/_classification.py:1509: UndefinedMetricWarning: Precision is ill-defined and being set to 0.0 in labels with no predicted samples. Use `zero_division` parameter to control this behavior.\n",
      "  _warn_prf(average, modifier, f\"{metric.capitalize()} is\", len(result))\n",
      "/opt/anaconda3/lib/python3.12/site-packages/sklearn/metrics/_classification.py:1509: UndefinedMetricWarning: Precision is ill-defined and being set to 0.0 in labels with no predicted samples. Use `zero_division` parameter to control this behavior.\n",
      "  _warn_prf(average, modifier, f\"{metric.capitalize()} is\", len(result))\n"
     ]
    }
   ],
   "source": [
    "print(classification_report(y_test_classes, y_pred_classes, digits=4))"
   ]
  },
  {
   "cell_type": "markdown",
   "metadata": {},
   "source": [
    "## B. CNN on augmented dataset"
   ]
  },
  {
   "cell_type": "markdown",
   "metadata": {},
   "source": [
    "### Data Augmentation"
   ]
  },
  {
   "cell_type": "code",
   "execution_count": 55,
   "metadata": {},
   "outputs": [],
   "source": [
    "# definition\n",
    "data_augmentation = ImageDataGenerator(\n",
    "    rotation_range=15,            \n",
    "    width_shift_range=0.1,         \n",
    "    height_shift_range=0.1,\n",
    "    horizontal_flip=True,          \n",
    "    rescale=1.0                    \n",
    ")"
   ]
  },
  {
   "cell_type": "code",
   "execution_count": 56,
   "metadata": {},
   "outputs": [],
   "source": [
    "train_generator = data_augmentation.flow(\n",
    "    X_train_small, y_train_small, batch_size=128\n",
    ")"
   ]
  },
  {
   "cell_type": "markdown",
   "metadata": {},
   "source": [
    "### Compile and Train CNN with augmented data"
   ]
  },
  {
   "cell_type": "code",
   "execution_count": 57,
   "metadata": {},
   "outputs": [
    {
     "name": "stderr",
     "output_type": "stream",
     "text": [
      "/opt/anaconda3/lib/python3.12/site-packages/keras/src/layers/convolutional/base_conv.py:107: UserWarning: Do not pass an `input_shape`/`input_dim` argument to a layer. When using Sequential models, prefer using an `Input(shape)` object as the first layer in the model instead.\n",
      "  super().__init__(activity_regularizer=activity_regularizer, **kwargs)\n",
      "/opt/anaconda3/lib/python3.12/site-packages/keras/src/trainers/data_adapters/py_dataset_adapter.py:121: UserWarning: Your `PyDataset` class should call `super().__init__(**kwargs)` in its constructor. `**kwargs` can include `workers`, `use_multiprocessing`, `max_queue_size`. Do not pass these arguments to `fit()`, as they will be ignored.\n",
      "  self._warn_if_super_not_called()\n"
     ]
    },
    {
     "name": "stdout",
     "output_type": "stream",
     "text": [
      "Epoch 1/20\n",
      "\u001b[1m441/441\u001b[0m \u001b[32m━━━━━━━━━━━━━━━━━━━━\u001b[0m\u001b[37m\u001b[0m \u001b[1m83s\u001b[0m 186ms/step - accuracy: 0.0488 - loss: 4.4577 - val_accuracy: 0.1314 - val_loss: 3.4340\n",
      "Epoch 2/20\n",
      "\u001b[1m441/441\u001b[0m \u001b[32m━━━━━━━━━━━━━━━━━━━━\u001b[0m\u001b[37m\u001b[0m \u001b[1m80s\u001b[0m 181ms/step - accuracy: 0.0881 - loss: 3.7361 - val_accuracy: 0.2250 - val_loss: 2.6199\n",
      "Epoch 3/20\n",
      "\u001b[1m441/441\u001b[0m \u001b[32m━━━━━━━━━━━━━━━━━━━━\u001b[0m\u001b[37m\u001b[0m \u001b[1m78s\u001b[0m 177ms/step - accuracy: 0.1083 - loss: 3.5495 - val_accuracy: 0.3024 - val_loss: 2.4155\n",
      "Epoch 4/20\n",
      "\u001b[1m441/441\u001b[0m \u001b[32m━━━━━━━━━━━━━━━━━━━━\u001b[0m\u001b[37m\u001b[0m \u001b[1m78s\u001b[0m 178ms/step - accuracy: 0.1129 - loss: 3.4488 - val_accuracy: 0.3041 - val_loss: 2.2935\n",
      "Epoch 5/20\n",
      "\u001b[1m441/441\u001b[0m \u001b[32m━━━━━━━━━━━━━━━━━━━━\u001b[0m\u001b[37m\u001b[0m \u001b[1m78s\u001b[0m 176ms/step - accuracy: 0.1195 - loss: 3.3978 - val_accuracy: 0.3569 - val_loss: 2.1410\n",
      "Epoch 6/20\n",
      "\u001b[1m441/441\u001b[0m \u001b[32m━━━━━━━━━━━━━━━━━━━━\u001b[0m\u001b[37m\u001b[0m \u001b[1m78s\u001b[0m 178ms/step - accuracy: 0.1281 - loss: 3.3354 - val_accuracy: 0.3309 - val_loss: 2.2996\n",
      "Epoch 7/20\n",
      "\u001b[1m441/441\u001b[0m \u001b[32m━━━━━━━━━━━━━━━━━━━━\u001b[0m\u001b[37m\u001b[0m \u001b[1m79s\u001b[0m 178ms/step - accuracy: 0.1308 - loss: 3.3270 - val_accuracy: 0.4059 - val_loss: 2.0199\n",
      "Epoch 8/20\n",
      "\u001b[1m441/441\u001b[0m \u001b[32m━━━━━━━━━━━━━━━━━━━━\u001b[0m\u001b[37m\u001b[0m \u001b[1m78s\u001b[0m 177ms/step - accuracy: 0.1398 - loss: 3.2868 - val_accuracy: 0.4444 - val_loss: 1.9030\n",
      "Epoch 9/20\n",
      "\u001b[1m441/441\u001b[0m \u001b[32m━━━━━━━━━━━━━━━━━━━━\u001b[0m\u001b[37m\u001b[0m \u001b[1m78s\u001b[0m 177ms/step - accuracy: 0.1491 - loss: 3.2534 - val_accuracy: 0.3579 - val_loss: 2.2361\n",
      "Epoch 10/20\n",
      "\u001b[1m441/441\u001b[0m \u001b[32m━━━━━━━━━━━━━━━━━━━━\u001b[0m\u001b[37m\u001b[0m \u001b[1m79s\u001b[0m 179ms/step - accuracy: 0.1636 - loss: 3.1771 - val_accuracy: 0.5019 - val_loss: 1.6892\n",
      "Epoch 11/20\n",
      "\u001b[1m441/441\u001b[0m \u001b[32m━━━━━━━━━━━━━━━━━━━━\u001b[0m\u001b[37m\u001b[0m \u001b[1m78s\u001b[0m 178ms/step - accuracy: 0.1896 - loss: 2.9840 - val_accuracy: 0.5405 - val_loss: 1.5303\n",
      "Epoch 12/20\n",
      "\u001b[1m441/441\u001b[0m \u001b[32m━━━━━━━━━━━━━━━━━━━━\u001b[0m\u001b[37m\u001b[0m \u001b[1m78s\u001b[0m 178ms/step - accuracy: 0.2190 - loss: 2.8156 - val_accuracy: 0.6152 - val_loss: 1.4226\n",
      "Epoch 13/20\n",
      "\u001b[1m441/441\u001b[0m \u001b[32m━━━━━━━━━━━━━━━━━━━━\u001b[0m\u001b[37m\u001b[0m \u001b[1m80s\u001b[0m 180ms/step - accuracy: 0.2363 - loss: 2.7175 - val_accuracy: 0.6308 - val_loss: 1.1338\n",
      "Epoch 14/20\n",
      "\u001b[1m441/441\u001b[0m \u001b[32m━━━━━━━━━━━━━━━━━━━━\u001b[0m\u001b[37m\u001b[0m \u001b[1m83s\u001b[0m 188ms/step - accuracy: 0.2822 - loss: 2.4799 - val_accuracy: 0.5417 - val_loss: 1.6094\n",
      "Epoch 15/20\n",
      "\u001b[1m441/441\u001b[0m \u001b[32m━━━━━━━━━━━━━━━━━━━━\u001b[0m\u001b[37m\u001b[0m \u001b[1m82s\u001b[0m 185ms/step - accuracy: 0.3057 - loss: 2.3594 - val_accuracy: 0.6241 - val_loss: 1.1930\n",
      "Epoch 16/20\n",
      "\u001b[1m441/441\u001b[0m \u001b[32m━━━━━━━━━━━━━━━━━━━━\u001b[0m\u001b[37m\u001b[0m \u001b[1m79s\u001b[0m 178ms/step - accuracy: 0.3158 - loss: 2.3102 - val_accuracy: 0.7390 - val_loss: 0.9026\n",
      "Epoch 17/20\n",
      "\u001b[1m441/441\u001b[0m \u001b[32m━━━━━━━━━━━━━━━━━━━━\u001b[0m\u001b[37m\u001b[0m \u001b[1m80s\u001b[0m 180ms/step - accuracy: 0.3182 - loss: 2.2864 - val_accuracy: 0.7429 - val_loss: 0.8742\n",
      "Epoch 18/20\n",
      "\u001b[1m441/441\u001b[0m \u001b[32m━━━━━━━━━━━━━━━━━━━━\u001b[0m\u001b[37m\u001b[0m \u001b[1m78s\u001b[0m 177ms/step - accuracy: 0.3334 - loss: 2.2304 - val_accuracy: 0.7399 - val_loss: 0.9036\n",
      "Epoch 19/20\n",
      "\u001b[1m441/441\u001b[0m \u001b[32m━━━━━━━━━━━━━━━━━━━━\u001b[0m\u001b[37m\u001b[0m \u001b[1m79s\u001b[0m 178ms/step - accuracy: 0.3591 - loss: 2.1144 - val_accuracy: 0.8058 - val_loss: 0.6956\n",
      "Epoch 20/20\n",
      "\u001b[1m441/441\u001b[0m \u001b[32m━━━━━━━━━━━━━━━━━━━━\u001b[0m\u001b[37m\u001b[0m \u001b[1m79s\u001b[0m 178ms/step - accuracy: 0.3820 - loss: 2.0056 - val_accuracy: 0.8525 - val_loss: 0.5598\n",
      "Training Time: 1585.25 seconds\n"
     ]
    }
   ],
   "source": [
    "\n",
    "model_with_aug = create_cnn_model()\n",
    "\n",
    "model_with_aug.compile(\n",
    "    optimizer='adam',\n",
    "    loss='sparse_categorical_crossentropy',\n",
    "    metrics=['accuracy']\n",
    ")\n",
    "\n",
    "start_time = time.time()\n",
    "history_with_aug = model_with_aug.fit(\n",
    "    train_generator,\n",
    "    validation_data=(X_val, y_val),\n",
    "    epochs=20,\n",
    "    verbose=1\n",
    ")\n",
    "\n",
    "training_time = time.time() - start_time\n",
    "print(f\"Training Time: {training_time:.2f} seconds\")"
   ]
  },
  {
   "cell_type": "markdown",
   "metadata": {},
   "source": [
    "### Table Report"
   ]
  },
  {
   "cell_type": "code",
   "execution_count": 58,
   "metadata": {},
   "outputs": [
    {
     "name": "stdout",
     "output_type": "stream",
     "text": [
      "Test Loss (No Augmentation): 0.8542577028274536\n",
      "Test Accuracy (No Augmentation): 0.8560057878494263\n"
     ]
    }
   ],
   "source": [
    "test_loss_with_aug, test_accuracy_with_aug = model_with_aug.evaluate(\n",
    "    X_test_normalized, y_test, verbose=0\n",
    ")\n",
    "\n",
    "print(f\"Test Loss (No Augmentation): {test_loss_no_aug}\")\n",
    "print(f\"Test Accuracy (No Augmentation): {test_accuracy_no_aug}\")"
   ]
  },
  {
   "cell_type": "code",
   "execution_count": 59,
   "metadata": {},
   "outputs": [
    {
     "name": "stdout",
     "output_type": "stream",
     "text": [
      "\u001b[1m739/739\u001b[0m \u001b[32m━━━━━━━━━━━━━━━━━━━━\u001b[0m\u001b[37m\u001b[0m \u001b[1m7s\u001b[0m 10ms/step\n"
     ]
    }
   ],
   "source": [
    "\n",
    "y_pred = model_with_aug.predict(X_test_normalized)\n",
    "\n",
    "y_pred_classes = y_pred.argmax(axis=1)\n",
    "\n",
    "y_test_classes = y_test_one_hot.argmax(axis=1)\n"
   ]
  },
  {
   "cell_type": "code",
   "execution_count": 60,
   "metadata": {},
   "outputs": [
    {
     "name": "stdout",
     "output_type": "stream",
     "text": [
      "              precision    recall  f1-score   support\n",
      "\n",
      "           0     0.9551    0.9490    0.9521       157\n",
      "           1     0.1038    0.0671    0.0815       164\n",
      "           2     0.9500    0.6419    0.7661       148\n",
      "           3     0.9778    1.0000    0.9888       485\n",
      "           4     1.0000    1.0000    1.0000       164\n",
      "           5     0.7273    0.4737    0.5737       152\n",
      "           6     0.6448    1.0000    0.7841       472\n",
      "           7     1.0000    0.1386    0.2434       166\n",
      "           8     0.8988    0.7650    0.8265       383\n",
      "           9     0.9070    1.0000    0.9512       234\n",
      "          10     0.9371    1.0000    0.9676       164\n",
      "          11     0.9795    1.0000    0.9896       143\n",
      "          12     0.0000    0.0000    0.0000       166\n",
      "          13     1.0000    0.7831    0.8784       166\n",
      "          14     0.9466    0.8158    0.8763       152\n",
      "          15     1.0000    0.5964    0.7472       166\n",
      "          16     0.5946    0.4400    0.5057       150\n",
      "          17     0.0000    0.0000    0.0000       154\n",
      "          18     1.0000    0.0213    0.0417        47\n",
      "          19     1.0000    0.9699    0.9847       166\n",
      "          20     0.9741    0.9177    0.9451       328\n",
      "          21     0.5917    0.6024    0.5970       166\n",
      "          22     1.0000    1.0000    1.0000        50\n",
      "          23     0.6307    1.0000    0.7736       234\n",
      "          24     1.0000    0.8732    0.9323       410\n",
      "          25     0.9462    1.0000    0.9723       246\n",
      "          26     0.0000    0.0000    0.0000       164\n",
      "          27     1.0000    0.1037    0.1878       164\n",
      "          28     0.8677    1.0000    0.9292       164\n",
      "          29     0.4608    0.9608    0.6229       153\n",
      "          30     1.0000    1.0000    1.0000       166\n",
      "          31     0.8557    1.0000    0.9222       166\n",
      "          32     0.3558    0.3867    0.3706       150\n",
      "          33     1.0000    0.5130    0.6781       154\n",
      "          34     0.6517    1.0000    0.7892       131\n",
      "          35     1.0000    0.6434    0.7830       286\n",
      "          36     1.0000    0.2048    0.3400       166\n",
      "          37     0.9271    0.5705    0.7063       156\n",
      "          38     1.0000    1.0000    1.0000        80\n",
      "          39     0.7500    1.0000    0.8571       234\n",
      "          40     0.4074    0.2222    0.2876        99\n",
      "          41     0.8410    0.9880    0.9086       166\n",
      "          42     0.6085    1.0000    0.7566       328\n",
      "          43     1.0000    1.0000    1.0000       164\n",
      "          44     0.9732    1.0000    0.9864       654\n",
      "          45     1.0000    1.0000    1.0000       166\n",
      "          46     0.9085    0.8476    0.8770       164\n",
      "          47     1.0000    1.0000    1.0000       166\n",
      "          48     1.0000    0.9936    0.9968       157\n",
      "          49     1.0000    1.0000    1.0000       166\n",
      "          50     1.0000    1.0000    1.0000       166\n",
      "          51     0.8678    0.6731    0.7581       156\n",
      "          52     0.8820    1.0000    0.9373       157\n",
      "          53     0.9864    0.8735    0.9265       166\n",
      "          54     0.7669    0.6220    0.6869       164\n",
      "          55     0.3451    1.0000    0.5131       166\n",
      "          56     0.7830    1.0000    0.8783       166\n",
      "          57     1.0000    0.9157    0.9560       166\n",
      "          58     1.0000    0.8494    0.9186       166\n",
      "          59     0.8689    0.9578    0.9112       166\n",
      "          60     0.9767    0.5915    0.7368       142\n",
      "          61     0.9903    1.0000    0.9951       102\n",
      "          62     0.4907    0.7952    0.6069       166\n",
      "          63     0.9609    1.0000    0.9801       246\n",
      "          64     1.0000    0.0183    0.0359       164\n",
      "          65     0.4516    0.0854    0.1436       164\n",
      "          66     0.4928    0.2125    0.2969       160\n",
      "          67     1.0000    0.5046    0.6707       218\n",
      "          68     0.7513    0.8146    0.7817       178\n",
      "          69     0.8140    0.9333    0.8696       150\n",
      "          70     1.0000    0.5871    0.7398       155\n",
      "          71     1.0000    0.9041    0.9496       146\n",
      "          72     0.9816    1.0000    0.9907       160\n",
      "          73     0.9011    1.0000    0.9480       164\n",
      "          74     1.0000    1.0000    1.0000       166\n",
      "          75     0.8971    0.8927    0.8949       410\n",
      "          76     0.8397    0.6707    0.7458       164\n",
      "          77     0.8683    0.9722    0.9173       468\n",
      "          78     1.0000    0.6807    0.8100       166\n",
      "          79     0.6290    1.0000    0.7723       234\n",
      "          80     0.8226    1.0000    0.9027       102\n",
      "          81     0.5724    1.0000    0.7281       166\n",
      "          82     0.9670    0.9234    0.9447       222\n",
      "          83     0.8375    1.0000    0.9115       237\n",
      "          84     0.9486    1.0000    0.9736       166\n",
      "          85     1.0000    0.7952    0.8859       166\n",
      "          86     0.9610    1.0000    0.9801       148\n",
      "          87     0.8925    0.7094    0.7905       234\n",
      "          88     1.0000    1.0000    1.0000       222\n",
      "          89     0.7655    1.0000    0.8672       222\n",
      "          90     0.0000    0.0000    0.0000       164\n",
      "          91     0.5385    0.1707    0.2593       164\n",
      "          92     0.6312    1.0000    0.7739       166\n",
      "          93     0.9444    0.7301    0.8235       163\n",
      "          94     1.0000    0.7169    0.8351       166\n",
      "          95     0.4856    0.9598    0.6449       597\n",
      "          96     0.3875    0.6829    0.4945       164\n",
      "          97     0.4634    0.1242    0.1959       153\n",
      "          98     0.9924    0.8667    0.9253       150\n",
      "          99     1.0000    0.7020    0.8249       151\n",
      "         100     0.9806    0.6733    0.7984       150\n",
      "         101     0.7264    0.9733    0.8319       150\n",
      "         102     0.7867    1.0000    0.8806       166\n",
      "         103     0.8723    1.0000    0.9318       164\n",
      "         104     1.0000    1.0000    1.0000       166\n",
      "         105     1.0000    1.0000    1.0000       164\n",
      "         106     0.4038    0.5185    0.4541       162\n",
      "         107     0.7069    1.0000    0.8283       164\n",
      "         108     0.7164    0.8008    0.7562       246\n",
      "         109     0.5304    1.0000    0.6931       166\n",
      "         110     1.0000    1.0000    1.0000       166\n",
      "         111     1.0000    1.0000    1.0000       877\n",
      "         112     0.9480    1.0000    0.9733       164\n",
      "         113     0.6706    1.0000    0.8028       228\n",
      "         114     1.0000    0.9921    0.9960       127\n",
      "         115     1.0000    0.0131    0.0258       153\n",
      "         116     0.9307    0.5949    0.7259       158\n",
      "         117     0.9960    1.0000    0.9980       249\n",
      "         118     1.0000    1.0000    1.0000       157\n",
      "         119     1.0000    1.0000    1.0000        80\n",
      "         120     1.0000    0.1250    0.2222        80\n",
      "\n",
      "    accuracy                         0.8094     23619\n",
      "   macro avg     0.8215    0.7696    0.7556     23619\n",
      "weighted avg     0.8260    0.8094    0.7850     23619\n",
      "\n"
     ]
    },
    {
     "name": "stderr",
     "output_type": "stream",
     "text": [
      "/opt/anaconda3/lib/python3.12/site-packages/sklearn/metrics/_classification.py:1509: UndefinedMetricWarning: Precision is ill-defined and being set to 0.0 in labels with no predicted samples. Use `zero_division` parameter to control this behavior.\n",
      "  _warn_prf(average, modifier, f\"{metric.capitalize()} is\", len(result))\n",
      "/opt/anaconda3/lib/python3.12/site-packages/sklearn/metrics/_classification.py:1509: UndefinedMetricWarning: Precision is ill-defined and being set to 0.0 in labels with no predicted samples. Use `zero_division` parameter to control this behavior.\n",
      "  _warn_prf(average, modifier, f\"{metric.capitalize()} is\", len(result))\n",
      "/opt/anaconda3/lib/python3.12/site-packages/sklearn/metrics/_classification.py:1509: UndefinedMetricWarning: Precision is ill-defined and being set to 0.0 in labels with no predicted samples. Use `zero_division` parameter to control this behavior.\n",
      "  _warn_prf(average, modifier, f\"{metric.capitalize()} is\", len(result))\n"
     ]
    }
   ],
   "source": [
    "print(classification_report(y_test_classes, y_pred_classes, digits=4))\n"
   ]
  },
  {
   "cell_type": "markdown",
   "metadata": {},
   "source": [
    "## Loss and Accuracy curves for the CNN (with and without Data Augmentation)"
   ]
  },
  {
   "cell_type": "code",
   "execution_count": null,
   "metadata": {},
   "outputs": [
    {
     "data": {
      "image/png": "[encoded data removed]",
      "text/plain": [
       "<Figure size 1200x600 with 2 Axes>"
      ]
     },
     "metadata": {},
     "output_type": "display_data"
    }
   ],
   "source": [
    "\n",
    "plt.figure(figsize=(12, 6))\n",
    "\n",
    "plt.subplot(1, 2, 1)\n",
    "plt.plot(history_without_aug.history['loss'], label='Train Loss (No Aug)', color='blue')\n",
    "plt.plot(history_without_aug.history['val_loss'], label='Validation Loss (No Aug)', color='orange')\n",
    "plt.plot(history_with_aug.history['loss'], label='Train Loss (Aug)', color='green')\n",
    "plt.plot(history_with_aug.history['val_loss'], label='Validation Loss (Aug)', color='red')\n",
    "plt.title('Loss Comparison')\n",
    "plt.xlabel('Epochs')\n",
    "plt.ylabel('Loss')\n",
    "plt.legend()\n",
    "\n",
    "plt.subplot(1, 2, 2)\n",
    "plt.plot(history_without_aug.history['accuracy'], label='Train Accuracy (No Aug)', color='blue')\n",
    "plt.plot(history_without_aug.history['val_accuracy'], label='Validation Accuracy (No Aug)', color='orange')\n",
    "plt.plot(history_with_aug.history['accuracy'], label='Train Accuracy (Aug)', color='green')\n",
    "plt.plot(history_with_aug.history['val_accuracy'], label='Validation Accuracy (Aug)', color='red')\n",
    "plt.title('Accuracy Comparison')\n",
    "plt.xlabel('Epochs')\n",
    "plt.ylabel('Accuracy')\n",
    "plt.legend()\n",
    "\n",
    "plt.tight_layout()\n",
    "plt.show()\n"
   ]
  },
  {
   "cell_type": "markdown",
   "metadata": {},
   "source": [
    "# 3.4 Finetuning over ResNet-18 Architecture"
   ]
  },
  {
   "cell_type": "markdown",
   "metadata": {},
   "source": [
    "### Preprocess the dataset"
   ]
  },
  {
   "cell_type": "code",
   "execution_count": 70,
   "metadata": {},
   "outputs": [],
   "source": [
    "import torch\n",
    "from torchvision import transforms\n",
    "\n",
    "transform = transforms.Compose([\n",
    "    transforms.ToPILImage(),\n",
    "    transforms.Resize((32, 32)),\n",
    "    transforms.Grayscale(3),     \n",
    "    transforms.ToTensor(),       \n",
    "    transforms.Normalize((0.5,), (0.5,))  \n",
    "])\n",
    "\n",
    "\n",
    "X_train_transformed = torch.stack([transform(img) for img in X_train])\n",
    "X_test_transformed = torch.stack([transform(img) for img in X_test])\n"
   ]
  },
  {
   "cell_type": "markdown",
   "metadata": {},
   "source": [
    "### Convert Labels to Tensor"
   ]
  },
  {
   "cell_type": "code",
   "execution_count": 71,
   "metadata": {},
   "outputs": [],
   "source": [
    "y_train_tensor = torch.tensor(y_train, dtype=torch.long)\n",
    "y_test_tensor = torch.tensor(y_test, dtype=torch.long)\n"
   ]
  },
  {
   "cell_type": "markdown",
   "metadata": {},
   "source": [
    "### Split into train, validation, and test sets"
   ]
  },
  {
   "cell_type": "code",
   "execution_count": 72,
   "metadata": {},
   "outputs": [
    {
     "name": "stdout",
     "output_type": "stream",
     "text": [
      "Training Set Size: torch.Size([56392, 3, 32, 32])\n",
      "Validation Set Size: torch.Size([14099, 3, 32, 32])\n"
     ]
    }
   ],
   "source": [
    "X_train_small, X_val, y_train_small, y_val = train_test_split(\n",
    "    X_train_transformed, y_train_tensor, test_size=0.2, random_state=42\n",
    ")\n",
    "\n",
    "print(f\"Training Set Size: {X_train_small.shape}\")\n",
    "print(f\"Validation Set Size: {X_val.shape}\")"
   ]
  },
  {
   "cell_type": "markdown",
   "metadata": {},
   "source": [
    "### Create DataLoader"
   ]
  },
  {
   "cell_type": "code",
   "execution_count": 73,
   "metadata": {},
   "outputs": [],
   "source": [
    "from torch.utils.data import TensorDataset, DataLoader\n",
    "\n",
    "train_dataset = TensorDataset(X_train_small, y_train_small)\n",
    "val_dataset = TensorDataset(X_val, y_val)\n",
    "test_dataset = TensorDataset(X_test_transformed, y_test_tensor)\n",
    "\n",
    "train_loader = DataLoader(train_dataset, batch_size=256, shuffle=True)\n",
    "val_loader = DataLoader(val_dataset, batch_size=256, shuffle=False)\n",
    "test_loader = DataLoader(test_dataset, batch_size=256, shuffle=False)"
   ]
  },
  {
   "cell_type": "markdown",
   "metadata": {},
   "source": [
    "### Load Pretrained ResNet-18"
   ]
  },
  {
   "cell_type": "code",
   "execution_count": 74,
   "metadata": {},
   "outputs": [
    {
     "name": "stderr",
     "output_type": "stream",
     "text": [
      "/opt/anaconda3/lib/python3.12/site-packages/torchvision/models/_utils.py:208: UserWarning: The parameter 'pretrained' is deprecated since 0.13 and may be removed in the future, please use 'weights' instead.\n",
      "  warnings.warn(\n",
      "/opt/anaconda3/lib/python3.12/site-packages/torchvision/models/_utils.py:223: UserWarning: Arguments other than a weight enum or `None` for 'weights' are deprecated since 0.13 and may be removed in the future. The current behavior is equivalent to passing `weights=ResNet18_Weights.IMAGENET1K_V1`. You can also use `weights=ResNet18_Weights.DEFAULT` to get the most up-to-date weights.\n",
      "  warnings.warn(msg)\n"
     ]
    }
   ],
   "source": [
    "from torchvision.models import resnet18\n",
    "from torch import nn\n",
    "\n",
    "model = resnet18(pretrained=True)\n"
   ]
  },
  {
   "cell_type": "code",
   "execution_count": 75,
   "metadata": {},
   "outputs": [],
   "source": [
    "model.fc = nn.Linear(model.fc.in_features, num_classes)\n"
   ]
  },
  {
   "cell_type": "markdown",
   "metadata": {},
   "source": [
    "### Define Optimizer and Loss"
   ]
  },
  {
   "cell_type": "code",
   "execution_count": 76,
   "metadata": {},
   "outputs": [],
   "source": [
    "import torch.optim as optim\n",
    "\n",
    "optimizer = optim.SGD(model.parameters(), lr=0.01, momentum=0.9)\n",
    "scheduler = optim.lr_scheduler.StepLR(optimizer, step_size=7, gamma=0.1)\n",
    "criterion = nn.CrossEntropyLoss()\n"
   ]
  },
  {
   "cell_type": "code",
   "execution_count": 77,
   "metadata": {},
   "outputs": [
    {
     "name": "stdout",
     "output_type": "stream",
     "text": [
      "Using device: mps\n",
      "True\n"
     ]
    }
   ],
   "source": [
    "device = torch.device(\"mps\") if torch.backends.mps.is_available() else \"cpu\"\n",
    "model = model.to(device)\n",
    "print(f\"Using device: {device}\")\n",
    "print(torch.backends.mps.is_available()) # true\n"
   ]
  },
  {
   "cell_type": "markdown",
   "metadata": {},
   "source": [
    "### Train the model"
   ]
  },
  {
   "cell_type": "code",
   "execution_count": 78,
   "metadata": {},
   "outputs": [
    {
     "name": "stdout",
     "output_type": "stream",
     "text": [
      "Epoch 1, Train Loss: 0.4223, Train Acc: 0.9085, Val Loss: 0.0067, Val Acc: 0.9991\n",
      "Epoch 2, Train Loss: 0.0050, Train Acc: 0.9996, Val Loss: 0.0019, Val Acc: 0.9999\n",
      "Epoch 3, Train Loss: 0.0022, Train Acc: 0.9999, Val Loss: 0.0011, Val Acc: 0.9999\n",
      "Epoch 4, Train Loss: 0.0014, Train Acc: 1.0000, Val Loss: 0.0009, Val Acc: 0.9999\n",
      "Epoch 5, Train Loss: 0.0010, Train Acc: 1.0000, Val Loss: 0.0008, Val Acc: 0.9999\n",
      "Epoch 6, Train Loss: 0.0008, Train Acc: 1.0000, Val Loss: 0.0007, Val Acc: 0.9999\n",
      "Epoch 7, Train Loss: 0.0007, Train Acc: 1.0000, Val Loss: 0.0006, Val Acc: 0.9999\n",
      "Epoch 8, Train Loss: 0.0006, Train Acc: 1.0000, Val Loss: 0.0006, Val Acc: 0.9999\n",
      "Epoch 9, Train Loss: 0.0006, Train Acc: 1.0000, Val Loss: 0.0006, Val Acc: 0.9999\n",
      "Epoch 10, Train Loss: 0.0006, Train Acc: 1.0000, Val Loss: 0.0006, Val Acc: 0.9999\n",
      "Epoch 11, Train Loss: 0.0006, Train Acc: 1.0000, Val Loss: 0.0006, Val Acc: 0.9999\n",
      "Epoch 12, Train Loss: 0.0006, Train Acc: 1.0000, Val Loss: 0.0006, Val Acc: 0.9999\n",
      "Epoch 13, Train Loss: 0.0006, Train Acc: 1.0000, Val Loss: 0.0006, Val Acc: 0.9999\n",
      "Epoch 14, Train Loss: 0.0006, Train Acc: 1.0000, Val Loss: 0.0006, Val Acc: 0.9999\n",
      "Epoch 15, Train Loss: 0.0006, Train Acc: 1.0000, Val Loss: 0.0006, Val Acc: 0.9999\n",
      "Epoch 16, Train Loss: 0.0005, Train Acc: 1.0000, Val Loss: 0.0005, Val Acc: 0.9999\n",
      "Epoch 17, Train Loss: 0.0006, Train Acc: 1.0000, Val Loss: 0.0006, Val Acc: 0.9999\n",
      "Epoch 18, Train Loss: 0.0006, Train Acc: 1.0000, Val Loss: 0.0006, Val Acc: 0.9999\n",
      "Epoch 19, Train Loss: 0.0006, Train Acc: 1.0000, Val Loss: 0.0006, Val Acc: 0.9999\n",
      "Epoch 20, Train Loss: 0.0006, Train Acc: 1.0000, Val Loss: 0.0006, Val Acc: 0.9999\n",
      "Epoch 21, Train Loss: 0.0006, Train Acc: 1.0000, Val Loss: 0.0006, Val Acc: 0.9999\n",
      "Epoch 22, Train Loss: 0.0006, Train Acc: 1.0000, Val Loss: 0.0006, Val Acc: 0.9999\n",
      "Epoch 23, Train Loss: 0.0006, Train Acc: 1.0000, Val Loss: 0.0005, Val Acc: 0.9999\n",
      "Epoch 24, Train Loss: 0.0006, Train Acc: 1.0000, Val Loss: 0.0006, Val Acc: 0.9999\n",
      "Epoch 25, Train Loss: 0.0006, Train Acc: 1.0000, Val Loss: 0.0006, Val Acc: 0.9999\n",
      "Total Training Time: 267.58 seconds\n"
     ]
    }
   ],
   "source": [
    "train_losses = []\n",
    "val_losses = []\n",
    "train_accuracies = []\n",
    "val_accuracies = []\n",
    "\n",
    "start_time = time.time()\n",
    "\n",
    "for epoch in range(25):\n",
    "    # train\n",
    "    model.train()\n",
    "    running_loss = 0.0\n",
    "    correct = 0\n",
    "    total = 0\n",
    "    for inputs, labels in train_loader:\n",
    "        inputs, labels = inputs.to(device), labels.to(device)\n",
    "        optimizer.zero_grad()\n",
    "        outputs = model(inputs)\n",
    "        loss = criterion(outputs, labels)\n",
    "        loss.backward()\n",
    "        optimizer.step()\n",
    "\n",
    "        running_loss += loss.item() * inputs.size(0)\n",
    "        _, predicted = outputs.max(1)\n",
    "        total += labels.size(0)\n",
    "        correct += predicted.eq(labels).sum().item()\n",
    "\n",
    "    train_loss = running_loss / len(train_loader.dataset)\n",
    "    train_acc = correct / total\n",
    "    train_losses.append(train_loss)\n",
    "    train_accuracies.append(train_acc)\n",
    "\n",
    "    # validate\n",
    "    model.eval()\n",
    "    val_loss = 0.0\n",
    "    correct = 0\n",
    "    total = 0\n",
    "    with torch.no_grad():\n",
    "        for inputs, labels in val_loader:\n",
    "            inputs, labels = inputs.to(device), labels.to(device)\n",
    "            outputs = model(inputs)\n",
    "            loss = criterion(outputs, labels)\n",
    "\n",
    "            val_loss += loss.item() * inputs.size(0)\n",
    "            _, predicted = outputs.max(1)\n",
    "            total += labels.size(0)\n",
    "            correct += predicted.eq(labels).sum().item()\n",
    "\n",
    "    val_loss /= len(val_loader.dataset)\n",
    "    val_acc = correct / total\n",
    "    val_losses.append(val_loss)\n",
    "    val_accuracies.append(val_acc)\n",
    "\n",
    "    print(f\"Epoch {epoch+1}, Train Loss: {train_loss:.4f}, Train Acc: {train_acc:.4f}, \"\n",
    "          f\"Val Loss: {val_loss:.4f}, Val Acc: {val_acc:.4f}\")\n",
    "\n",
    "    scheduler.step()\n",
    "\n",
    "end_time = time.time()\n",
    "training_time = end_time - start_time\n",
    "print(f\"Total Training Time: {training_time:.2f} seconds\")\n"
   ]
  },
  {
   "cell_type": "markdown",
   "metadata": {},
   "source": [
    "### Evaluate the model on the test set"
   ]
  },
  {
   "cell_type": "code",
   "execution_count": 79,
   "metadata": {},
   "outputs": [
    {
     "name": "stdout",
     "output_type": "stream",
     "text": [
      "Test Accuracy: 0.9461\n",
      "Precision: 0.9507, Recall: 0.9461, F1-Score: 0.9451\n"
     ]
    }
   ],
   "source": [
    "def evaluate_model(model, test_loader, device):\n",
    "    model.eval()\n",
    "    all_labels = []\n",
    "    all_predictions = []\n",
    "    correct = 0\n",
    "    total = 0\n",
    "\n",
    "    with torch.no_grad():\n",
    "        for inputs, labels in test_loader:\n",
    "            inputs, labels = inputs.to(device), labels.to(device)\n",
    "            outputs = model(inputs)\n",
    "            _, predicted = outputs.max(1)\n",
    "            all_labels.extend(labels.cpu().numpy())\n",
    "            all_predictions.extend(predicted.cpu().numpy())\n",
    "            total += labels.size(0)\n",
    "            correct += predicted.eq(labels).sum().item()\n",
    "\n",
    "    accuracy = correct / total\n",
    "\n",
    "    precision = precision_score(all_labels, all_predictions, average='weighted')\n",
    "    recall = recall_score(all_labels, all_predictions, average='weighted')\n",
    "    f1 = f1_score(all_labels, all_predictions, average='weighted')\n",
    "    print(f\"Test Accuracy: {accuracy:.4f}\")\n",
    "    print(f\"Precision: {precision:.4f}, Recall: {recall:.4f}, F1-Score: {f1:.4f}\")\n",
    "    return precision, recall, f1\n",
    "\n",
    "precision, recall, f1 = evaluate_model(model, test_loader, device)"
   ]
  },
  {
   "cell_type": "markdown",
   "metadata": {},
   "source": [
    "### Loss and Accuracy Curves"
   ]
  },
  {
   "cell_type": "code",
   "execution_count": 80,
   "metadata": {},
   "outputs": [
    {
     "data": {
      "image/png": "[encoded data removed]",
      "text/plain": [
       "<Figure size 1000x500 with 1 Axes>"
      ]
     },
     "metadata": {},
     "output_type": "display_data"
    },
    {
     "data": {
      "image/png": "[encoded data removed]",
      "text/plain": [
       "<Figure size 1000x500 with 1 Axes>"
      ]
     },
     "metadata": {},
     "output_type": "display_data"
    }
   ],
   "source": [
    "plt.figure(figsize=(10, 5))\n",
    "plt.plot(train_losses, label='Train Loss')\n",
    "plt.plot(val_losses, label='Validation Loss')\n",
    "plt.xlabel('Epochs')\n",
    "plt.ylabel('Loss')\n",
    "plt.title('Loss Curves')\n",
    "plt.legend()\n",
    "plt.show()\n",
    "\n",
    "plt.figure(figsize=(10, 5))\n",
    "plt.plot(train_accuracies, label='Train Accuracy')\n",
    "plt.plot(val_accuracies, label='Validation Accuracy')\n",
    "plt.xlabel('Epochs')\n",
    "plt.ylabel('Accuracy')\n",
    "plt.title('Accuracy Curves')\n",
    "plt.legend()\n",
    "plt.show()"
   ]
  }
 ],
 "metadata": {
  "kernelspec": {
   "display_name": "base",
   "language": "python",
   "name": "python3"
  },
  "language_info": {
   "codemirror_mode": {
    "name": "ipython",
    "version": 3
   },
   "file_extension": ".py",
   "mimetype": "text/x-python",
   "name": "python",
   "nbconvert_exporter": "python",
   "pygments_lexer": "ipython3",
   "version": "3.12.4"
  }
 },
 "nbformat": 4,
 "nbformat_minor": 2
}
